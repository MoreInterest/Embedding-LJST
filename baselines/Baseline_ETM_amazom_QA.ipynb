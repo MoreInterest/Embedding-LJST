{
 "cells": [
  {
   "cell_type": "code",
   "execution_count": 1,
   "metadata": {},
   "outputs": [],
   "source": [
    "from nltk.corpus import stopwords\n",
    "from nltk.tokenize import word_tokenize\n",
    "from nltk.stem import PorterStemmer\n",
    "from num2words import num2words\n",
    "from collections import Counter\n",
    "from scipy import spatial\n",
    "from sklearn.externals import joblib\n",
    "from sklearn.feature_extraction.text import CountVectorizer\n",
    "from sklearn.decomposition import LatentDirichletAllocation\n",
    "from scipy.special import gammaln\n",
    "from collections import Counter\n",
    "\n",
    "import imp\n",
    "import datetime\n",
    "import LDA_Init as lda2\n",
    "import scipy\n",
    "import operator\n",
    "import nltk\n",
    "import os\n",
    "import string\n",
    "import numpy as np\n",
    "import copy\n",
    "import pandas as pd\n",
    "import pickle\n",
    "import utils as my_utils\n",
    "from sklearn.metrics import silhouette_score, davies_bouldin_score"
   ]
  },
  {
   "cell_type": "code",
   "execution_count": 2,
   "metadata": {},
   "outputs": [],
   "source": [
    "dataset_name = \"amazon_QA_Electronics_fasttext_with_stopwords\""
   ]
  },
  {
   "cell_type": "code",
   "execution_count": 3,
   "metadata": {},
   "outputs": [],
   "source": [
    "dataset = pd.read_pickle(\"resources/data_amazon_QA_Electronics_5kanswers_noduplicates_pd\")"
   ]
  },
  {
   "cell_type": "code",
   "execution_count": 4,
   "metadata": {
    "scrolled": true
   },
   "outputs": [
    {
     "data": {
      "text/html": [
       "<div>\n",
       "<style scoped>\n",
       "    .dataframe tbody tr th:only-of-type {\n",
       "        vertical-align: middle;\n",
       "    }\n",
       "\n",
       "    .dataframe tbody tr th {\n",
       "        vertical-align: top;\n",
       "    }\n",
       "\n",
       "    .dataframe thead th {\n",
       "        text-align: right;\n",
       "    }\n",
       "</style>\n",
       "<table border=\"1\" class=\"dataframe\">\n",
       "  <thead>\n",
       "    <tr style=\"text-align: right;\">\n",
       "      <th></th>\n",
       "      <th>askerID</th>\n",
       "      <th>questionText</th>\n",
       "      <th>answererID</th>\n",
       "      <th>helpful</th>\n",
       "      <th>answerText</th>\n",
       "    </tr>\n",
       "  </thead>\n",
       "  <tbody>\n",
       "    <tr>\n",
       "      <th>0</th>\n",
       "      <td>AMD370KY9I1WK</td>\n",
       "      <td>Good for rabbit ears? I live in a basement apa...</td>\n",
       "      <td>A1GNC9LPUQ8HTG</td>\n",
       "      <td>[6, 6]</td>\n",
       "      <td>I purchased this Motorola signal booster for m...</td>\n",
       "    </tr>\n",
       "    <tr>\n",
       "      <th>1</th>\n",
       "      <td>AMD370KY9I1WK</td>\n",
       "      <td>Good for rabbit ears? I live in a basement apa...</td>\n",
       "      <td>A3NYJZ71CESSP8</td>\n",
       "      <td>[3, 3]</td>\n",
       "      <td>When an amplifier receives a bad signal all yo...</td>\n",
       "    </tr>\n",
       "  </tbody>\n",
       "</table>\n",
       "</div>"
      ],
      "text/plain": [
       "         askerID                                       questionText  \\\n",
       "0  AMD370KY9I1WK  Good for rabbit ears? I live in a basement apa...   \n",
       "1  AMD370KY9I1WK  Good for rabbit ears? I live in a basement apa...   \n",
       "\n",
       "       answererID helpful                                         answerText  \n",
       "0  A1GNC9LPUQ8HTG  [6, 6]  I purchased this Motorola signal booster for m...  \n",
       "1  A3NYJZ71CESSP8  [3, 3]  When an amplifier receives a bad signal all yo...  "
      ]
     },
     "execution_count": 4,
     "metadata": {},
     "output_type": "execute_result"
    }
   ],
   "source": [
    "dataset.head(2)"
   ]
  },
  {
   "cell_type": "code",
   "execution_count": 5,
   "metadata": {},
   "outputs": [],
   "source": [
    "dataset[8] = my_utils.preprocess(dataset[\"answerText\"])\n",
    "dataset[9] = dataset[8].apply(lambda x: \" \".join(x))"
   ]
  },
  {
   "cell_type": "code",
   "execution_count": 6,
   "metadata": {},
   "outputs": [
    {
     "data": {
      "text/html": [
       "<div>\n",
       "<style scoped>\n",
       "    .dataframe tbody tr th:only-of-type {\n",
       "        vertical-align: middle;\n",
       "    }\n",
       "\n",
       "    .dataframe tbody tr th {\n",
       "        vertical-align: top;\n",
       "    }\n",
       "\n",
       "    .dataframe thead th {\n",
       "        text-align: right;\n",
       "    }\n",
       "</style>\n",
       "<table border=\"1\" class=\"dataframe\">\n",
       "  <thead>\n",
       "    <tr style=\"text-align: right;\">\n",
       "      <th></th>\n",
       "      <th>askerID</th>\n",
       "      <th>questionText</th>\n",
       "      <th>answererID</th>\n",
       "      <th>helpful</th>\n",
       "      <th>answerText</th>\n",
       "      <th>8</th>\n",
       "      <th>9</th>\n",
       "    </tr>\n",
       "  </thead>\n",
       "  <tbody>\n",
       "    <tr>\n",
       "      <th>0</th>\n",
       "      <td>AMD370KY9I1WK</td>\n",
       "      <td>Good for rabbit ears? I live in a basement apa...</td>\n",
       "      <td>A1GNC9LPUQ8HTG</td>\n",
       "      <td>[6, 6]</td>\n",
       "      <td>I purchased this Motorola signal booster for m...</td>\n",
       "      <td>[purchased, motorola, signal, booster, rabbit,...</td>\n",
       "      <td>purchased motorola signal booster rabbit ear c...</td>\n",
       "    </tr>\n",
       "    <tr>\n",
       "      <th>1</th>\n",
       "      <td>AMD370KY9I1WK</td>\n",
       "      <td>Good for rabbit ears? I live in a basement apa...</td>\n",
       "      <td>A3NYJZ71CESSP8</td>\n",
       "      <td>[3, 3]</td>\n",
       "      <td>When an amplifier receives a bad signal all yo...</td>\n",
       "      <td>[amplifier, receives, bad, signal, get, amplif...</td>\n",
       "      <td>amplifier receives bad signal get amplified ba...</td>\n",
       "    </tr>\n",
       "  </tbody>\n",
       "</table>\n",
       "</div>"
      ],
      "text/plain": [
       "         askerID                                       questionText  \\\n",
       "0  AMD370KY9I1WK  Good for rabbit ears? I live in a basement apa...   \n",
       "1  AMD370KY9I1WK  Good for rabbit ears? I live in a basement apa...   \n",
       "\n",
       "       answererID helpful                                         answerText  \\\n",
       "0  A1GNC9LPUQ8HTG  [6, 6]  I purchased this Motorola signal booster for m...   \n",
       "1  A3NYJZ71CESSP8  [3, 3]  When an amplifier receives a bad signal all yo...   \n",
       "\n",
       "                                                   8  \\\n",
       "0  [purchased, motorola, signal, booster, rabbit,...   \n",
       "1  [amplifier, receives, bad, signal, get, amplif...   \n",
       "\n",
       "                                                   9  \n",
       "0  purchased motorola signal booster rabbit ear c...  \n",
       "1  amplifier receives bad signal get amplified ba...  "
      ]
     },
     "execution_count": 6,
     "metadata": {},
     "output_type": "execute_result"
    }
   ],
   "source": [
    "dataset.head(2)"
   ]
  },
  {
   "cell_type": "code",
   "execution_count": 7,
   "metadata": {},
   "outputs": [],
   "source": [
    "count_matrix_, tfidf_matrix_, vocabulary, words = my_utils.processReviews(dataset[9].values)"
   ]
  },
  {
   "cell_type": "code",
   "execution_count": 8,
   "metadata": {},
   "outputs": [
    {
     "data": {
      "text/plain": [
       "((5006, 2000), (5006, 2000))"
      ]
     },
     "execution_count": 8,
     "metadata": {},
     "output_type": "execute_result"
    }
   ],
   "source": [
    "count_matrix_.shape, tfidf_matrix_.shape"
   ]
  },
  {
   "cell_type": "code",
   "execution_count": 9,
   "metadata": {},
   "outputs": [],
   "source": [
    "barren = np.where(count_matrix_.sum(1)==0)[0]"
   ]
  },
  {
   "cell_type": "code",
   "execution_count": 10,
   "metadata": {},
   "outputs": [
    {
     "data": {
      "text/plain": [
       "array([1381, 1638, 3029])"
      ]
     },
     "execution_count": 10,
     "metadata": {},
     "output_type": "execute_result"
    }
   ],
   "source": [
    "barren"
   ]
  },
  {
   "cell_type": "code",
   "execution_count": 11,
   "metadata": {},
   "outputs": [],
   "source": [
    "count_matrix, tfidf_matrix, texts, ratings, ids = [], [], [], [], []\n",
    "\n",
    "texts_ =  dataset['answerText'].values.tolist()\n",
    "ids_ = dataset['answererID'].values.tolist()\n",
    "\n",
    "for idx, (i, j, k, m) in enumerate(zip(count_matrix_, tfidf_matrix_, texts_, ids_)):\n",
    "    if idx not in barren:\n",
    "        count_matrix.append(i.tolist())\n",
    "        tfidf_matrix.append(j.tolist())\n",
    "        texts.append(k)\n",
    "        ids.append(m)\n",
    "        \n",
    "count_matrix = np.array(count_matrix)\n",
    "tfidf_matrix = np.array(tfidf_matrix)\n",
    "texts = np.array(texts)\n",
    "ids = np.array(ids)"
   ]
  },
  {
   "cell_type": "markdown",
   "metadata": {},
   "source": [
    "### Making Edge_Dict"
   ]
  },
  {
   "cell_type": "code",
   "execution_count": 12,
   "metadata": {},
   "outputs": [
    {
     "data": {
      "text/plain": [
       "'amazon_QA_Electronics_fasttext_with_stopwords'"
      ]
     },
     "execution_count": 12,
     "metadata": {},
     "output_type": "execute_result"
    }
   ],
   "source": [
    "dataset_name"
   ]
  },
  {
   "cell_type": "code",
   "execution_count": 13,
   "metadata": {},
   "outputs": [],
   "source": [
    "pickle_in = open(\"resources/docs_edges_amazon_QA_Electronics_fasttext_trained_with_stopwords_5kanswers.pickle\",\"rb\")\n",
    "docs_edges = pickle.load(pickle_in)"
   ]
  },
  {
   "cell_type": "code",
   "execution_count": 14,
   "metadata": {},
   "outputs": [],
   "source": [
    "docs_edges = np.delete(docs_edges, barren).tolist()"
   ]
  },
  {
   "cell_type": "code",
   "execution_count": 15,
   "metadata": {},
   "outputs": [
    {
     "data": {
      "text/plain": [
       "5003"
      ]
     },
     "execution_count": 15,
     "metadata": {},
     "output_type": "execute_result"
    }
   ],
   "source": [
    "len(docs_edges)"
   ]
  },
  {
   "cell_type": "code",
   "execution_count": 16,
   "metadata": {},
   "outputs": [],
   "source": [
    "edge_dict = {}\n",
    "for i in docs_edges:\n",
    "    for j in i:\n",
    "        try:\n",
    "            edge_dict[j[0]] += [j[1]]\n",
    "            edge_dict[j[1]] += [j[0]]\n",
    "        except:\n",
    "            edge_dict[j[0]] = [j[1]]\n",
    "            edge_dict[j[1]] = [j[0]]"
   ]
  },
  {
   "cell_type": "code",
   "execution_count": 17,
   "metadata": {},
   "outputs": [],
   "source": [
    "for i in edge_dict.keys():\n",
    "    edge_dict[i] = list(set(edge_dict[i]))"
   ]
  },
  {
   "cell_type": "code",
   "execution_count": 18,
   "metadata": {},
   "outputs": [
    {
     "data": {
      "text/plain": [
       "1528"
      ]
     },
     "execution_count": 18,
     "metadata": {},
     "output_type": "execute_result"
    }
   ],
   "source": [
    "len(edge_dict)"
   ]
  },
  {
   "cell_type": "code",
   "execution_count": 19,
   "metadata": {},
   "outputs": [],
   "source": [
    "lambda_param = 1.0\n",
    "n_top_words = 5"
   ]
  },
  {
   "cell_type": "code",
   "execution_count": 20,
   "metadata": {},
   "outputs": [],
   "source": [
    "topics_grid = [5, 10, 15, 20, 25, 30, 35, 40, 45, 50, 60]"
   ]
  },
  {
   "cell_type": "code",
   "execution_count": 21,
   "metadata": {},
   "outputs": [],
   "source": [
    "folder_name = \"baseline_etm_amazon_fasttext_with_stopwords\""
   ]
  },
  {
   "cell_type": "code",
   "execution_count": 22,
   "metadata": {},
   "outputs": [],
   "source": [
    "folder_name = str(datetime.datetime.now()) + \"_\" + folder_name\n",
    "os.mkdir(\"dumps/\"+folder_name)"
   ]
  },
  {
   "cell_type": "code",
   "execution_count": 23,
   "metadata": {},
   "outputs": [],
   "source": [
    "import multiprocessing"
   ]
  },
  {
   "cell_type": "code",
   "execution_count": 24,
   "metadata": {},
   "outputs": [],
   "source": [
    "def multiprocessing_func(k):\n",
    "    sampler = lda2.LdaSampler(n_topics=k, lambda_param=lambda_param)\n",
    "    \n",
    "    print \"Running Sampler...\", k\n",
    "    for it, phi in enumerate(sampler.run(count_matrix, edge_dict)):\n",
    "        my_utils.print_if_mod(idx, 10)\n",
    "    joblib.dump(sampler, \"dumps/\" + folder_name + \"/sampler_n_topics_\" + str(k))"
   ]
  },
  {
   "cell_type": "code",
   "execution_count": 25,
   "metadata": {
    "scrolled": true
   },
   "outputs": [
    {
     "name": "stdout",
     "output_type": "stream",
     "text": [
      "Running Sampler... 15\n",
      "Running Sampler... 35\n",
      "Running Sampler... 20\n",
      "Running Sampler... 25\n",
      "Running Sampler... 10\n",
      "Running Sampler... 5\n",
      "Running Sampler... 40\n",
      "Running Sampler... 50\n",
      "Running Sampler... 30\n",
      "Running Sampler... 45\n",
      "Running Sampler... 60\n"
     ]
    }
   ],
   "source": [
    "pool = multiprocessing.Pool()"
   ]
  },
  {
   "cell_type": "code",
   "execution_count": 26,
   "metadata": {},
   "outputs": [
    {
     "data": {
      "text/plain": [
       "[None, None, None, None, None, None, None, None, None, None, None]"
      ]
     },
     "execution_count": 26,
     "metadata": {},
     "output_type": "execute_result"
    }
   ],
   "source": [
    "pool.map(multiprocessing_func, topics_grid)"
   ]
  },
  {
   "cell_type": "markdown",
   "metadata": {},
   "source": [
    "# Evaluations"
   ]
  },
  {
   "cell_type": "code",
   "execution_count": 62,
   "metadata": {},
   "outputs": [
    {
     "name": "stdout",
     "output_type": "stream",
     "text": [
      "\n"
     ]
    }
   ],
   "source": [
    "folder_name = \"2019-08-22 00:47:11.626375_baseline_etm_amazon_fasttext_with_stopwords\""
   ]
  },
  {
   "cell_type": "code",
   "execution_count": 63,
   "metadata": {
    "scrolled": false
   },
   "outputs": [],
   "source": [
    "def multiprocessing_func_eval(k):\n",
    "    sampler = joblib.load(\"dumps/\"+folder_name + \"/sampler_n_topics_\" + str(k))\n",
    "\n",
    "    t_words = sampler.getTopKWords(n_top_words, words)\n",
    "    top_words = [t_words[i] for i in t_words.keys()]\n",
    "    dt_distribution = sampler.theta()\n",
    "    \n",
    "    print\n",
    "    print \"Topics:\", k\n",
    "    print \"Coherance:\", my_utils.coherence_score(count_matrix, top_words, vocabulary)\n",
    "    print \"Silhouette Score:\", silhouette_score(count_matrix, dt_distribution.argmax(axis=1))\n",
    "    print \"Davies Bouldin Score:\", davies_bouldin_score(count_matrix, dt_distribution.argmax(axis=1))"
   ]
  },
  {
   "cell_type": "code",
   "execution_count": 64,
   "metadata": {},
   "outputs": [],
   "source": [
    "topics_grid = [5, 10, 15, 20, 25, 30, 35, 40, 45, 50, 60]"
   ]
  },
  {
   "cell_type": "code",
   "execution_count": 65,
   "metadata": {},
   "outputs": [
    {
     "name": "stdout",
     "output_type": "stream",
     "text": [
      "\n",
      "Topics: 5\n",
      "Coherance: -20.185670084049967\n",
      "Silhouette Score: -0.015218706439258656\n",
      "Davies Bouldin Score: 12.424802080847297\n",
      "\n",
      "Topics: 10\n",
      "Coherance: -22.2460895761383\n",
      "Silhouette Score: -0.026055268951330705\n",
      "Davies Bouldin Score: 11.714916061553613\n",
      "\n",
      "Topics: 15\n",
      "Coherance: -21.888887975313796\n",
      "Silhouette Score: -0.038223162280981014\n",
      "Davies Bouldin Score: 10.103512862991328\n",
      "\n",
      "Topics: 20\n",
      "Coherance: -22.38751483156511\n",
      "Silhouette Score: -0.041778458490685295\n",
      "Davies Bouldin Score: 9.892081425647156\n",
      "\n",
      "Topics: 25\n",
      "Coherance: -23.373650443505618\n",
      "Silhouette Score: -0.04678085116187067\n",
      "Davies Bouldin Score: 9.610290316558814\n",
      "\n",
      "Topics: 30\n",
      "Coherance: -22.656893973447726\n",
      "Silhouette Score: -0.044199445869156626\n",
      "Davies Bouldin Score: 8.946654998861076\n",
      "\n",
      "Topics: 35\n",
      "Coherance: -22.903495969560904\n",
      "Silhouette Score: -0.042168950454159505\n",
      "Davies Bouldin Score: 8.476715057649812\n",
      "\n",
      "Topics: 40\n",
      "Coherance: -23.055443493845683\n",
      "Silhouette Score: -0.049200634826487316\n",
      "Davies Bouldin Score: 8.173945400906797\n",
      "\n",
      "Topics: 45\n",
      "Coherance: -22.95071424037416\n",
      "Silhouette Score: -0.03862223141693466\n",
      "Davies Bouldin Score: 8.0340425829174\n",
      "\n",
      "Topics: 50\n",
      "Coherance: -23.660796516927203\n",
      "Silhouette Score: -0.04069252047061336\n",
      "Davies Bouldin Score: 7.784098883524543\n",
      "\n",
      "Topics: 60\n",
      "Coherance: -23.357132540903457\n",
      "Silhouette Score: -0.041528114529977685\n",
      "Davies Bouldin Score: 7.452193426442566\n"
     ]
    }
   ],
   "source": [
    "for k in topics_grid:\n",
    "    multiprocessing_func_eval(k)"
   ]
  },
  {
   "cell_type": "markdown",
   "metadata": {},
   "source": [
    "# TSNE"
   ]
  },
  {
   "cell_type": "code",
   "execution_count": 28,
   "metadata": {},
   "outputs": [],
   "source": [
    "# dt_dist = sampler.theta()\n",
    "\n",
    "# X_embedded = TSNE(n_components=2).fit_transform(dt_dist)\n",
    "\n",
    "# import matplotlib.pyplot as plt\n",
    "# from sklearn.manifold import TSNE\n",
    "\n",
    "# plt.figure(figsize=(8, 8))\n",
    "# plt.scatter([i[0] for i in X_embedded], [i[1] for i in X_embedded], c=dt_dist.argmax(axis=1))\n",
    "# plt.legend(loc=2)\n",
    "# plt.show()"
   ]
  }
 ],
 "metadata": {
  "kernelspec": {
   "display_name": "Python [conda env:python2]",
   "language": "python",
   "name": "conda-env-python2-py"
  },
  "language_info": {
   "codemirror_mode": {
    "name": "ipython",
    "version": 2
   },
   "file_extension": ".py",
   "mimetype": "text/x-python",
   "name": "python",
   "nbconvert_exporter": "python",
   "pygments_lexer": "ipython2",
   "version": "2.7.16"
  }
 },
 "nbformat": 4,
 "nbformat_minor": 2
}
