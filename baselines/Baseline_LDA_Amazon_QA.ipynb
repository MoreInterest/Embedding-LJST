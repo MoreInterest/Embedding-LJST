{
 "cells": [
  {
   "cell_type": "code",
   "execution_count": 1,
   "metadata": {},
   "outputs": [
    {
     "name": "stderr",
     "output_type": "stream",
     "text": [
      "/opt/anaconda3/lib/python3.7/site-packages/sklearn/externals/joblib/__init__.py:15: DeprecationWarning: sklearn.externals.joblib is deprecated in 0.21 and will be removed in 0.23. Please import this functionality directly from joblib, which can be installed with: pip install joblib. If this warning is raised when loading pickled models, you may need to re-serialize those models with scikit-learn 0.21+.\n",
      "  warnings.warn(msg, category=DeprecationWarning)\n",
      "/opt/anaconda3/lib/python3.7/site-packages/smart_open/ssh.py:34: UserWarning: paramiko missing, opening SSH/SCP/SFTP paths will be disabled.  `pip install paramiko` to suppress\n",
      "  warnings.warn('paramiko missing, opening SSH/SCP/SFTP paths will be disabled.  `pip install paramiko` to suppress')\n"
     ]
    }
   ],
   "source": [
    "import numpy as np\n",
    "import pandas as pd\n",
    "import scipy\n",
    "import operator\n",
    "import nltk\n",
    "import os\n",
    "import string\n",
    "import copy\n",
    "import copy\n",
    "import pickle\n",
    "\n",
    "import utils as my_utils\n",
    "\n",
    "from scipy import spatial\n",
    "from collections import Counter\n",
    "from scipy.special import gammaln\n",
    "from sklearn.decomposition import LatentDirichletAllocation\n",
    "from sklearn.metrics import silhouette_score, davies_bouldin_score\n"
   ]
  },
  {
   "cell_type": "code",
   "execution_count": 2,
   "metadata": {},
   "outputs": [],
   "source": [
    "dataset = pd.read_pickle(\"resources/data_amazon_QA_Electronics_5kanswers_noduplicates_pd\")"
   ]
  },
  {
   "cell_type": "code",
   "execution_count": 3,
   "metadata": {},
   "outputs": [],
   "source": [
    "dataset[6] = my_utils.preprocess(dataset['answerText'])\n",
    "dataset[7] = dataset[6].apply(lambda x: \" \".join(x))"
   ]
  },
  {
   "cell_type": "code",
   "execution_count": 4,
   "metadata": {},
   "outputs": [
    {
     "data": {
      "text/html": [
       "<div>\n",
       "<style scoped>\n",
       "    .dataframe tbody tr th:only-of-type {\n",
       "        vertical-align: middle;\n",
       "    }\n",
       "\n",
       "    .dataframe tbody tr th {\n",
       "        vertical-align: top;\n",
       "    }\n",
       "\n",
       "    .dataframe thead th {\n",
       "        text-align: right;\n",
       "    }\n",
       "</style>\n",
       "<table border=\"1\" class=\"dataframe\">\n",
       "  <thead>\n",
       "    <tr style=\"text-align: right;\">\n",
       "      <th></th>\n",
       "      <th>askerID</th>\n",
       "      <th>questionText</th>\n",
       "      <th>answererID</th>\n",
       "      <th>helpful</th>\n",
       "      <th>answerText</th>\n",
       "      <th>6</th>\n",
       "      <th>7</th>\n",
       "    </tr>\n",
       "  </thead>\n",
       "  <tbody>\n",
       "    <tr>\n",
       "      <th>0</th>\n",
       "      <td>AMD370KY9I1WK</td>\n",
       "      <td>Good for rabbit ears? I live in a basement apa...</td>\n",
       "      <td>A1GNC9LPUQ8HTG</td>\n",
       "      <td>[6, 6]</td>\n",
       "      <td>I purchased this Motorola signal booster for m...</td>\n",
       "      <td>[purchased, motorola, signal, booster, rabbit,...</td>\n",
       "      <td>purchased motorola signal booster rabbit ear c...</td>\n",
       "    </tr>\n",
       "    <tr>\n",
       "      <th>1</th>\n",
       "      <td>AMD370KY9I1WK</td>\n",
       "      <td>Good for rabbit ears? I live in a basement apa...</td>\n",
       "      <td>A3NYJZ71CESSP8</td>\n",
       "      <td>[3, 3]</td>\n",
       "      <td>When an amplifier receives a bad signal all yo...</td>\n",
       "      <td>[amplifier, receives, bad, signal, get, amplif...</td>\n",
       "      <td>amplifier receives bad signal get amplified ba...</td>\n",
       "    </tr>\n",
       "    <tr>\n",
       "      <th>2</th>\n",
       "      <td>AMD370KY9I1WK</td>\n",
       "      <td>Good for rabbit ears? I live in a basement apa...</td>\n",
       "      <td>A3UD50M7M72150</td>\n",
       "      <td>[1, 1]</td>\n",
       "      <td>hey, i'm in the same prob here, looking for so...</td>\n",
       "      <td>[hey, prob, looking, something, boost, weak, s...</td>\n",
       "      <td>hey prob looking something boost weak signal r...</td>\n",
       "    </tr>\n",
       "    <tr>\n",
       "      <th>3</th>\n",
       "      <td>AMD370KY9I1WK</td>\n",
       "      <td>Good for rabbit ears? I live in a basement apa...</td>\n",
       "      <td>ACNON4BZACUUL</td>\n",
       "      <td>[2, 2]</td>\n",
       "      <td>This motorola signal booster did not work at a...</td>\n",
       "      <td>[motorola, signal, booster, work, wa, waste, m...</td>\n",
       "      <td>motorola signal booster work wa waste money re...</td>\n",
       "    </tr>\n",
       "    <tr>\n",
       "      <th>4</th>\n",
       "      <td>AMD370KY9I1WK</td>\n",
       "      <td>Good for rabbit ears? I live in a basement apa...</td>\n",
       "      <td>A2AMFW65LLALFI</td>\n",
       "      <td>[1, 1]</td>\n",
       "      <td>I emailed Motorola TechSupport about this prod...</td>\n",
       "      <td>[emailed, motorola, techsupport, product, repl...</td>\n",
       "      <td>emailed motorola techsupport product reply got...</td>\n",
       "    </tr>\n",
       "  </tbody>\n",
       "</table>\n",
       "</div>"
      ],
      "text/plain": [
       "         askerID                                       questionText  \\\n",
       "0  AMD370KY9I1WK  Good for rabbit ears? I live in a basement apa...   \n",
       "1  AMD370KY9I1WK  Good for rabbit ears? I live in a basement apa...   \n",
       "2  AMD370KY9I1WK  Good for rabbit ears? I live in a basement apa...   \n",
       "3  AMD370KY9I1WK  Good for rabbit ears? I live in a basement apa...   \n",
       "4  AMD370KY9I1WK  Good for rabbit ears? I live in a basement apa...   \n",
       "\n",
       "       answererID helpful                                         answerText  \\\n",
       "0  A1GNC9LPUQ8HTG  [6, 6]  I purchased this Motorola signal booster for m...   \n",
       "1  A3NYJZ71CESSP8  [3, 3]  When an amplifier receives a bad signal all yo...   \n",
       "2  A3UD50M7M72150  [1, 1]  hey, i'm in the same prob here, looking for so...   \n",
       "3   ACNON4BZACUUL  [2, 2]  This motorola signal booster did not work at a...   \n",
       "4  A2AMFW65LLALFI  [1, 1]  I emailed Motorola TechSupport about this prod...   \n",
       "\n",
       "                                                   6  \\\n",
       "0  [purchased, motorola, signal, booster, rabbit,...   \n",
       "1  [amplifier, receives, bad, signal, get, amplif...   \n",
       "2  [hey, prob, looking, something, boost, weak, s...   \n",
       "3  [motorola, signal, booster, work, wa, waste, m...   \n",
       "4  [emailed, motorola, techsupport, product, repl...   \n",
       "\n",
       "                                                   7  \n",
       "0  purchased motorola signal booster rabbit ear c...  \n",
       "1  amplifier receives bad signal get amplified ba...  \n",
       "2  hey prob looking something boost weak signal r...  \n",
       "3  motorola signal booster work wa waste money re...  \n",
       "4  emailed motorola techsupport product reply got...  "
      ]
     },
     "execution_count": 4,
     "metadata": {},
     "output_type": "execute_result"
    }
   ],
   "source": [
    "dataset.head()"
   ]
  },
  {
   "cell_type": "code",
   "execution_count": 5,
   "metadata": {},
   "outputs": [
    {
     "data": {
      "text/plain": [
       "(5006, 7)"
      ]
     },
     "execution_count": 5,
     "metadata": {},
     "output_type": "execute_result"
    }
   ],
   "source": [
    "dataset.shape"
   ]
  },
  {
   "cell_type": "code",
   "execution_count": 6,
   "metadata": {},
   "outputs": [],
   "source": [
    "count_matrix, tfidf_matrix, vocabulary, words = my_utils.processReviews(dataset[7].values)"
   ]
  },
  {
   "cell_type": "code",
   "execution_count": 7,
   "metadata": {},
   "outputs": [],
   "source": [
    "n_top_words = 5"
   ]
  },
  {
   "cell_type": "code",
   "execution_count": 8,
   "metadata": {},
   "outputs": [],
   "source": [
    "topics_grid = [5, 10, 15, 20, 25, 30, 35, 40, 45, 50, 60]"
   ]
  },
  {
   "cell_type": "code",
   "execution_count": 9,
   "metadata": {
    "scrolled": false
   },
   "outputs": [
    {
     "name": "stdout",
     "output_type": "stream",
     "text": [
      "\n",
      "K: 5\n",
      "Running Sampler...\n",
      "\n",
      "K: 10\n",
      "Running Sampler...\n",
      "\n",
      "K: 15\n",
      "Running Sampler...\n",
      "\n",
      "K: 20\n",
      "Running Sampler...\n",
      "\n",
      "K: 25\n",
      "Running Sampler...\n",
      "\n",
      "K: 30\n",
      "Running Sampler...\n",
      "\n",
      "K: 35\n",
      "Running Sampler...\n",
      "\n",
      "K: 40\n",
      "Running Sampler...\n",
      "\n",
      "K: 45\n",
      "Running Sampler...\n",
      "\n",
      "K: 50\n",
      "Running Sampler...\n",
      "\n",
      "K: 60\n",
      "Running Sampler...\n"
     ]
    }
   ],
   "source": [
    "models_dump = []\n",
    "\n",
    "for k in topics_grid:\n",
    "    print(\"\\nK:\", k)\n",
    "\n",
    "    print(\"Running Sampler...\")\n",
    "    model = LatentDirichletAllocation(n_components=k, random_state=100)\n",
    "    model.fit(count_matrix)\n",
    "    models_dump.append(copy.deepcopy(model))"
   ]
  },
  {
   "cell_type": "code",
   "execution_count": 10,
   "metadata": {
    "scrolled": false
   },
   "outputs": [
    {
     "name": "stdout",
     "output_type": "stream",
     "text": [
      "\n",
      "K: 5\n",
      "Running Metrics...\n",
      "Coherance Score: -20.34627476995326\n",
      "Silhouette Score: -0.012382507985640275\n",
      "Davies Bouldin Score: 13.558338644770268\n",
      "\n",
      "K: 10\n",
      "Running Metrics...\n",
      "Coherance Score: -20.723920528719564\n",
      "Silhouette Score: -0.02436223455032383\n",
      "Davies Bouldin Score: 11.34931241451998\n",
      "\n",
      "K: 15\n",
      "Running Metrics...\n",
      "Coherance Score: -22.116107282829603\n",
      "Silhouette Score: -0.03053084539860494\n",
      "Davies Bouldin Score: 10.993603321453707\n",
      "\n",
      "K: 20\n",
      "Running Metrics...\n",
      "Coherance Score: -22.33979993018161\n",
      "Silhouette Score: -0.048350412647433644\n",
      "Davies Bouldin Score: 10.420580958024985\n",
      "\n",
      "K: 25\n",
      "Running Metrics...\n",
      "Coherance Score: -22.732478311602513\n",
      "Silhouette Score: -0.055207712674092614\n",
      "Davies Bouldin Score: 10.02381433795611\n",
      "\n",
      "K: 30\n",
      "Running Metrics...\n",
      "Coherance Score: -23.43778915174925\n",
      "Silhouette Score: -0.05257189706452568\n",
      "Davies Bouldin Score: 9.379022271815437\n",
      "\n",
      "K: 35\n",
      "Running Metrics...\n",
      "Coherance Score: -24.158014181735535\n",
      "Silhouette Score: -0.05051810528289234\n",
      "Davies Bouldin Score: 8.957463286998427\n",
      "\n",
      "K: 40\n",
      "Running Metrics...\n",
      "Coherance Score: -24.08865269020363\n",
      "Silhouette Score: -0.0615797771440121\n",
      "Davies Bouldin Score: 8.709319244777355\n",
      "\n",
      "K: 45\n",
      "Running Metrics...\n",
      "Coherance Score: -23.43873375011448\n",
      "Silhouette Score: -0.05521207745142484\n",
      "Davies Bouldin Score: 8.259382811471072\n",
      "\n",
      "K: 50\n",
      "Running Metrics...\n",
      "Coherance Score: -24.68865851260745\n",
      "Silhouette Score: -0.06536021389517954\n",
      "Davies Bouldin Score: 8.13460145433338\n",
      "\n",
      "K: 60\n",
      "Running Metrics...\n",
      "Coherance Score: -24.41762009725351\n",
      "Silhouette Score: -0.0662925438228588\n",
      "Davies Bouldin Score: 7.719225055643662\n"
     ]
    }
   ],
   "source": [
    "for k, model in zip(topics_grid, models_dump):\n",
    "\n",
    "    topic_words = {}\n",
    "    for topic, comp in enumerate(model.components_):\n",
    "        word_idx = np.argsort(comp)[::-1][:n_top_words]\n",
    "        topic_words[topic] = [words[i] for i in word_idx]\n",
    "\n",
    "    sample_df = []\n",
    "    for topic, word in topic_words.items():\n",
    "        sample_df.append(', '.join(word).split(\", \"))\n",
    "\n",
    "    dt_distribution = model.transform(count_matrix)\n",
    "\n",
    "    print(\"\\nK:\", k)\n",
    "    print(\"Running Metrics...\")\n",
    "    print(\"Coherance Score:\", my_utils.coherence_score(count_matrix, sample_df, vocabulary))\n",
    "    print(\"Silhouette Score:\", silhouette_score(count_matrix, dt_distribution.argmax(axis=1)))\n",
    "    print(\"Davies Bouldin Score:\", davies_bouldin_score(count_matrix, dt_distribution.argmax(axis=1)))"
   ]
  },
  {
   "cell_type": "markdown",
   "metadata": {},
   "source": [
    "# Appendix"
   ]
  },
  {
   "cell_type": "code",
   "execution_count": 11,
   "metadata": {},
   "outputs": [],
   "source": [
    "#print(\"H-Score:\", my_utils.get_hscore(dt_distribution, count_matrix, k))"
   ]
  },
  {
   "cell_type": "markdown",
   "metadata": {},
   "source": [
    "# TSNE"
   ]
  },
  {
   "cell_type": "code",
   "execution_count": 12,
   "metadata": {},
   "outputs": [],
   "source": [
    "# import matplotlib.pyplot as plt\n",
    "# from sklearn.manifold import TSNE\n",
    "\n",
    "# X_embedded = TSNE(n_components=2).fit_transform(dt_distribution)\n",
    "\n",
    "# X_embedded.shape\n",
    "\n",
    "# plt.figure(figsize=(10, 10))\n",
    "# plt.scatter([i[0] for i in X_embedded], [i[1] for i in X_embedded], c=dt_distribution.argmax(axis=1))"
   ]
  }
 ],
 "metadata": {
  "kernelspec": {
   "display_name": "python2",
   "language": "python",
   "name": "python2"
  },
  "language_info": {
   "codemirror_mode": {
    "name": "ipython",
    "version": 3
   },
   "file_extension": ".py",
   "mimetype": "text/x-python",
   "name": "python",
   "nbconvert_exporter": "python",
   "pygments_lexer": "ipython3",
   "version": "3.7.3"
  }
 },
 "nbformat": 4,
 "nbformat_minor": 2
}
