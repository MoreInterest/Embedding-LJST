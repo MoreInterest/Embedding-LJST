{
 "cells": [
  {
   "cell_type": "code",
   "execution_count": 1,
   "metadata": {},
   "outputs": [
    {
     "name": "stderr",
     "output_type": "stream",
     "text": [
      "/home/william18026/miniconda3/envs/python3/lib/python3.7/site-packages/sklearn/externals/joblib/__init__.py:15: DeprecationWarning: sklearn.externals.joblib is deprecated in 0.21 and will be removed in 0.23. Please import this functionality directly from joblib, which can be installed with: pip install joblib. If this warning is raised when loading pickled models, you may need to re-serialize those models with scikit-learn 0.21+.\n",
      "  warnings.warn(msg, category=DeprecationWarning)\n"
     ]
    }
   ],
   "source": [
    "from scipy import spatial, sparse\n",
    "from scipy.stats import chi2\n",
    "from collections import Counter\n",
    "from num2words import num2words\n",
    "from nltk.corpus import stopwords\n",
    "from nltk.stem import PorterStemmer\n",
    "from sklearn.externals import joblib \n",
    "from nltk.tokenize import word_tokenize\n",
    "from sklearn.model_selection import KFold\n",
    "from sklearn.decomposition import LatentDirichletAllocation\n",
    "from sklearn.feature_extraction.text import CountVectorizer, TfidfVectorizer\n",
    "# from tqdm import tqdm\n",
    "from tqdm import tqdm_notebook as tqdm\n",
    "from sklearn.metrics.pairwise import cosine_similarity\n",
    "from sklearn.metrics import silhouette_score, davies_bouldin_score\n",
    "from sklearn.metrics.pairwise import euclidean_distances, cosine_distances\n",
    "\n",
    "import os\n",
    "import imp\n",
    "import gzip\n",
    "import copy\n",
    "import nltk\n",
    "import pickle\n",
    "import scipy\n",
    "import string\n",
    "import gensim\n",
    "import operator\n",
    "import datetime\n",
    "import multiprocessing\n",
    "import matplotlib.pyplot as plt\n",
    "\n",
    "import numpy as np\n",
    "import pandas as pd\n",
    "#import LDA_ELJST as lda\n",
    "import ELJST_script_unigram as lda\n",
    "#import LJST_script_BTM as lda\n",
    "#import ELJST_script_BTM as lda\n",
    "import matplotlib.pyplot as plt"
   ]
  },
  {
   "cell_type": "code",
   "execution_count": 2,
   "metadata": {},
   "outputs": [],
   "source": [
    "import utils as my_utils"
   ]
  },
  {
   "cell_type": "code",
   "execution_count": 3,
   "metadata": {},
   "outputs": [],
   "source": [
    "def parse(path):\n",
    "    g = gzip.open(path, 'rb')\n",
    "    for l in g:\n",
    "        yield eval(l)\n",
    "\n",
    "def getDF(path):\n",
    "    i = 0\n",
    "    df = {}\n",
    "    for d in parse(path):\n",
    "        df[i] = d\n",
    "        i += 1\n",
    "    return pd.DataFrame.from_dict(df, orient='index')"
   ]
  },
  {
   "cell_type": "code",
   "execution_count": 4,
   "metadata": {},
   "outputs": [],
   "source": [
    "def process_df(df):\n",
    "    df['cleaned'] = my_utils.preprocess(df['reviewText'])\n",
    "    df['text'] = df['cleaned'].apply(lambda x: \" \".join(x))\n",
    "    return df"
   ]
  },
  {
   "cell_type": "code",
   "execution_count": 5,
   "metadata": {},
   "outputs": [
    {
     "data": {
      "text/plain": [
       "(10261, 9)"
      ]
     },
     "execution_count": 5,
     "metadata": {},
     "output_type": "execute_result"
    }
   ],
   "source": [
    "dataset = getDF('datasets/reviews_Musical_Instruments_5.json.gz')\n",
    "dataset.shape"
   ]
  },
  {
   "cell_type": "code",
   "execution_count": null,
   "metadata": {},
   "outputs": [],
   "source": []
  },
  {
   "cell_type": "code",
   "execution_count": 6,
   "metadata": {},
   "outputs": [],
   "source": [
    "n_cores = 35"
   ]
  },
  {
   "cell_type": "code",
   "execution_count": 7,
   "metadata": {},
   "outputs": [
    {
     "data": {
      "text/plain": [
       "(10261, 11)"
      ]
     },
     "execution_count": 7,
     "metadata": {},
     "output_type": "execute_result"
    }
   ],
   "source": [
    "n = int(dataset.shape[0]/n_cores)\n",
    "list_df = [dataset[i:i+n] for i in range(0, dataset.shape[0],n)]\n",
    "\n",
    "pool = multiprocessing.Pool(n_cores)\n",
    "processed_list_df = pool.map(process_df, list_df)\n",
    "pool.close()\n",
    "\n",
    "dataset = pd.concat(processed_list_df)\n",
    "dataset.shape"
   ]
  },
  {
   "cell_type": "code",
   "execution_count": 8,
   "metadata": {},
   "outputs": [
    {
     "data": {
      "text/plain": [
       "Counter({5.0: 6938, 3.0: 772, 4.0: 2084, 2.0: 250, 1.0: 217})"
      ]
     },
     "execution_count": 8,
     "metadata": {},
     "output_type": "execute_result"
    }
   ],
   "source": [
    "Counter(dataset.overall)"
   ]
  },
  {
   "cell_type": "code",
   "execution_count": null,
   "metadata": {},
   "outputs": [],
   "source": []
  },
  {
   "cell_type": "code",
   "execution_count": 22,
   "metadata": {},
   "outputs": [],
   "source": [
    "def loadGloveModel(gloveFile):\n",
    "    print(\"Loading Glove Model\")\n",
    "    f = open(gloveFile,'r', encoding='utf8')\n",
    "    model = {}\n",
    "    for line in tqdm(f):\n",
    "        splitLine = line.split()\n",
    "        word = splitLine[0]\n",
    "        embedding = np.array([float(val) for val in splitLine[1:]])\n",
    "        model[word] = embedding\n",
    "    print(\"Done.\",len(model),\" words loaded!\")\n",
    "    return model"
   ]
  },
  {
   "cell_type": "code",
   "execution_count": 23,
   "metadata": {
    "scrolled": true
   },
   "outputs": [
    {
     "name": "stdout",
     "output_type": "stream",
     "text": [
      "Loading Glove Model\n"
     ]
    },
    {
     "data": {
      "application/vnd.jupyter.widget-view+json": {
       "model_id": "de0bd6544c2044f3a5abb20783abb908",
       "version_major": 2,
       "version_minor": 0
      },
      "text/plain": [
       "HBox(children=(IntProgress(value=1, bar_style='info', max=1), HTML(value='')))"
      ]
     },
     "metadata": {},
     "output_type": "display_data"
    },
    {
     "name": "stdout",
     "output_type": "stream",
     "text": [
      "\n",
      "Done. 400000  words loaded!\n",
      "CPU times: user 32.5 s, sys: 1.16 s, total: 33.6 s\n",
      "Wall time: 33.7 s\n"
     ]
    }
   ],
   "source": [
    "%%time\n",
    "embedding_dim = 300\n",
    "embeddings_index = loadGloveModel(\"nongit_resources/glove.6B.300d.txt\")"
   ]
  },
  {
   "cell_type": "code",
   "execution_count": null,
   "metadata": {},
   "outputs": [],
   "source": []
  },
  {
   "cell_type": "code",
   "execution_count": 9,
   "metadata": {},
   "outputs": [],
   "source": [
    "n_topics = 5\n",
    "n_sentiment = 5\n",
    "alpha = 0.1/n_topics * np.ones(n_topics)\n",
    "beta = .01\n",
    "gamma = 10\n",
    "gamma = [gamma/(n_topics*n_sentiment)]*n_sentiment\n",
    "\n",
    "maxiter = 20\n",
    "lambda_param = 1"
   ]
  },
  {
   "cell_type": "code",
   "execution_count": 10,
   "metadata": {},
   "outputs": [
    {
     "data": {
      "text/plain": [
       "[0.4, 0.4, 0.4, 0.4, 0.4]"
      ]
     },
     "execution_count": 10,
     "metadata": {},
     "output_type": "execute_result"
    }
   ],
   "source": [
    "gamma"
   ]
  },
  {
   "cell_type": "code",
   "execution_count": null,
   "metadata": {},
   "outputs": [],
   "source": []
  },
  {
   "cell_type": "code",
   "execution_count": 11,
   "metadata": {},
   "outputs": [
    {
     "data": {
      "text/plain": [
       "<module 'ELJST_script_unigram' from '/home/william18026/Embedding-LJST/ELJST_script_unigram.py'>"
      ]
     },
     "execution_count": 11,
     "metadata": {},
     "output_type": "execute_result"
    }
   ],
   "source": [
    "imp.reload(lda)"
   ]
  },
  {
   "cell_type": "code",
   "execution_count": 12,
   "metadata": {},
   "outputs": [],
   "source": [
    "sampler = lda.SentimentLDAGibbsSampler(n_topics, alpha, beta, gamma, numSentiments=n_sentiment, minlabel = 0, \n",
    "                                       maxlabel = 5, SentimentRange = 5, max_df = .5, min_df = 5, \n",
    "                                       lambda_param = lambda_param)"
   ]
  },
  {
   "cell_type": "code",
   "execution_count": 13,
   "metadata": {},
   "outputs": [],
   "source": [
    "sampler._initialize_(reviews = dataset.text.tolist(), labels = dataset.overall.tolist())"
   ]
  },
  {
   "cell_type": "code",
   "execution_count": null,
   "metadata": {},
   "outputs": [],
   "source": []
  },
  {
   "cell_type": "code",
   "execution_count": 16,
   "metadata": {},
   "outputs": [
    {
     "data": {
      "text/plain": [
       "383692"
      ]
     },
     "execution_count": 16,
     "metadata": {},
     "output_type": "execute_result"
    }
   ],
   "source": [
    "sampler.wordOccuranceMatrix.sum()"
   ]
  },
  {
   "cell_type": "code",
   "execution_count": null,
   "metadata": {},
   "outputs": [],
   "source": []
  },
  {
   "cell_type": "code",
   "execution_count": null,
   "metadata": {},
   "outputs": [],
   "source": []
  },
  {
   "cell_type": "code",
   "execution_count": null,
   "metadata": {},
   "outputs": [],
   "source": []
  },
  {
   "cell_type": "code",
   "execution_count": 24,
   "metadata": {},
   "outputs": [
    {
     "data": {
      "application/vnd.jupyter.widget-view+json": {
       "model_id": "dc531e22cb8a439a8b8e9dd8b3da3ddb",
       "version_major": 2,
       "version_minor": 0
      },
      "text/plain": [
       "HBox(children=(IntProgress(value=0, max=4386), HTML(value='')))"
      ]
     },
     "metadata": {},
     "output_type": "display_data"
    },
    {
     "name": "stdout",
     "output_type": "stream",
     "text": [
      "\n",
      "CPU times: user 110 ms, sys: 27.8 ms, total: 137 ms\n",
      "Wall time: 132 ms\n"
     ]
    }
   ],
   "source": [
    "%%time\n",
    "word_embeddings = []\n",
    "\n",
    "for word in tqdm(sampler.words):\n",
    "    emb = embeddings_index.get(word, np.array([0]*embedding_dim))\n",
    "    word_embeddings.append(emb)\n",
    "\n",
    "word_embeddings = np.array(word_embeddings)"
   ]
  },
  {
   "cell_type": "code",
   "execution_count": null,
   "metadata": {},
   "outputs": [],
   "source": []
  },
  {
   "cell_type": "code",
   "execution_count": 25,
   "metadata": {},
   "outputs": [],
   "source": [
    "cutoff = .5\n",
    "word_similarity = cosine_similarity(word_embeddings)\n",
    "word_similarity = word_similarity > cutoff\n",
    "word_similarity = word_similarity.astype(int)\n",
    "np.fill_diagonal(word_similarity, 0)"
   ]
  },
  {
   "cell_type": "code",
   "execution_count": null,
   "metadata": {},
   "outputs": [],
   "source": []
  },
  {
   "cell_type": "code",
   "execution_count": 26,
   "metadata": {},
   "outputs": [
    {
     "data": {
      "text/plain": [
       "(10261, 4386)"
      ]
     },
     "execution_count": 26,
     "metadata": {},
     "output_type": "execute_result"
    }
   ],
   "source": [
    "wordOccuranceMatrixBinary = sampler.wordOccuranceMatrix.copy()\n",
    "wordOccuranceMatrixBinary[wordOccuranceMatrixBinary > 1] = 1\n",
    "wordOccuranceMatrixBinary.shape"
   ]
  },
  {
   "cell_type": "code",
   "execution_count": 27,
   "metadata": {},
   "outputs": [
    {
     "data": {
      "text/plain": [
       "299596"
      ]
     },
     "execution_count": 27,
     "metadata": {},
     "output_type": "execute_result"
    }
   ],
   "source": [
    "np.sum(wordOccuranceMatrixBinary)"
   ]
  },
  {
   "cell_type": "code",
   "execution_count": 28,
   "metadata": {},
   "outputs": [
    {
     "data": {
      "text/plain": [
       "Counter({'CD': 52,\n",
       "         'NN': 2435,\n",
       "         'IN': 45,\n",
       "         'JJ': 1032,\n",
       "         'RB': 288,\n",
       "         'VBP': 177,\n",
       "         'VB': 51,\n",
       "         'NNS': 64,\n",
       "         'VBD': 69,\n",
       "         'VBZ': 25,\n",
       "         'VBN': 13,\n",
       "         'RBS': 1,\n",
       "         'RBR': 10,\n",
       "         'JJR': 33,\n",
       "         'JJS': 28,\n",
       "         'DT': 1,\n",
       "         'MD': 4,\n",
       "         'VBG': 19,\n",
       "         'FW': 12,\n",
       "         'WP': 1,\n",
       "         'NNP': 21,\n",
       "         'CC': 2,\n",
       "         'UH': 1,\n",
       "         'RP': 1,\n",
       "         'WDT': 1})"
      ]
     },
     "execution_count": 28,
     "metadata": {},
     "output_type": "execute_result"
    }
   ],
   "source": [
    "Counter(np.array([i[1] for i in nltk.pos_tag(sampler.words)]))"
   ]
  },
  {
   "cell_type": "code",
   "execution_count": 29,
   "metadata": {},
   "outputs": [],
   "source": [
    "pp = np.array([i[1] for i in nltk.pos_tag(sampler.words)])\n",
    "pp[pp=='JJ'] = 1\n",
    "pp[pp=='JJR'] = 1\n",
    "pp[pp=='JJS'] = 1\n",
    "pp[pp=='NN'] = 1\n",
    "pp[pp=='NNS'] = 1\n",
    "pp[pp=='NNP'] = 1\n",
    "pp[pp=='NNPS'] = 1\n",
    "pp[pp!='1'] = 0\n",
    "pp = pp.astype(int)"
   ]
  },
  {
   "cell_type": "code",
   "execution_count": 30,
   "metadata": {},
   "outputs": [
    {
     "data": {
      "text/plain": [
       "219093"
      ]
     },
     "execution_count": 30,
     "metadata": {},
     "output_type": "execute_result"
    }
   ],
   "source": [
    "wordOccuranceMatrixBinary[np.where(pp!=1)[0], :] = 0\n",
    "wordOccuranceMatrixBinary[:, np.where(pp!=1)[0]] = 0\n",
    "np.sum(wordOccuranceMatrixBinary)"
   ]
  },
  {
   "cell_type": "code",
   "execution_count": null,
   "metadata": {},
   "outputs": [],
   "source": []
  },
  {
   "cell_type": "code",
   "execution_count": null,
   "metadata": {},
   "outputs": [],
   "source": [
    "def get_edges(i):\n",
    "    t = np.where(i==0)[0]\n",
    "    k = word_similarity.copy()\n",
    "\n",
    "    k[t, :] = 0\n",
    "    k[:, t] = 0\n",
    "\n",
    "    z, x = np.where(k==1)\n",
    "    embeds = {}\n",
    "    for p, q in zip(z, x):\n",
    "        try:\n",
    "            embeds[p] += [q]\n",
    "        except:\n",
    "            embeds[p] = [q]\n",
    "        try:\n",
    "            embeds[q] += [p]\n",
    "        except:\n",
    "            embeds[q] = [p]\n",
    "    for i in embeds.keys():\n",
    "        embeds[i] = list(set(embeds[i]))\n",
    "    return embeds"
   ]
  },
  {
   "cell_type": "code",
   "execution_count": null,
   "metadata": {
    "scrolled": true
   },
   "outputs": [],
   "source": [
    "# %%time\n",
    "# pool = multiprocessing.Pool(n_cores)\n",
    "# similar_words = pool.map(get_edges, wordOccuranceMatrixBinary)\n",
    "# pool.close()\n",
    "# pickle_out = open(\"resources/amazon_muiscal_glove_0.5_POS.pickle\",\"wb\")\n",
    "# pickle.dump(similar_words, pickle_out)\n",
    "# pickle_out.close()"
   ]
  },
  {
   "cell_type": "code",
   "execution_count": null,
   "metadata": {},
   "outputs": [],
   "source": []
  },
  {
   "cell_type": "code",
   "execution_count": 17,
   "metadata": {},
   "outputs": [],
   "source": [
    "similar_words = pickle.load(open(\"resources/amazon_muiscal_glove_0.3_POS.pickle\",\"rb\"))"
   ]
  },
  {
   "cell_type": "code",
   "execution_count": null,
   "metadata": {},
   "outputs": [],
   "source": []
  },
  {
   "cell_type": "code",
   "execution_count": null,
   "metadata": {},
   "outputs": [],
   "source": []
  },
  {
   "cell_type": "code",
   "execution_count": 18,
   "metadata": {
    "scrolled": false
   },
   "outputs": [
    {
     "data": {
      "application/vnd.jupyter.widget-view+json": {
       "model_id": "2bd7144b92054c50ab569e3d479f89ee",
       "version_major": 2,
       "version_minor": 0
      },
      "text/plain": [
       "HBox(children=(IntProgress(value=1, bar_style='info', max=1), HTML(value='')))"
      ]
     },
     "metadata": {},
     "output_type": "display_data"
    },
    {
     "name": "stdout",
     "output_type": "stream",
     "text": [
      "\n"
     ]
    }
   ],
   "source": [
    "sampler.run(reviews=dataset.text.tolist(), labels=dataset.overall.tolist(), \n",
    "            similar_words=similar_words, mrf=True, maxIters=0)"
   ]
  },
  {
   "cell_type": "code",
   "execution_count": 32,
   "metadata": {},
   "outputs": [
    {
     "data": {
      "text/plain": [
       "Counter({0: 956,\n",
       "         14: 299,\n",
       "         26: 237,\n",
       "         62: 83,\n",
       "         82: 56,\n",
       "         20: 264,\n",
       "         36: 145,\n",
       "         16: 295,\n",
       "         22: 226,\n",
       "         6: 327,\n",
       "         4: 302,\n",
       "         40: 112,\n",
       "         72: 61,\n",
       "         12: 306,\n",
       "         38: 152,\n",
       "         24: 201,\n",
       "         46: 98,\n",
       "         222: 11,\n",
       "         92: 41,\n",
       "         8: 318,\n",
       "         2: 281,\n",
       "         30: 173,\n",
       "         10: 306,\n",
       "         212: 19,\n",
       "         304: 9,\n",
       "         54: 102,\n",
       "         42: 132,\n",
       "         52: 85,\n",
       "         100: 41,\n",
       "         58: 85,\n",
       "         28: 171,\n",
       "         60: 81,\n",
       "         132: 30,\n",
       "         78: 49,\n",
       "         18: 262,\n",
       "         32: 164,\n",
       "         74: 57,\n",
       "         34: 162,\n",
       "         174: 17,\n",
       "         250: 10,\n",
       "         64: 68,\n",
       "         450: 1,\n",
       "         162: 18,\n",
       "         116: 23,\n",
       "         104: 41,\n",
       "         70: 63,\n",
       "         176: 25,\n",
       "         66: 88,\n",
       "         48: 88,\n",
       "         624: 2,\n",
       "         1756: 1,\n",
       "         50: 87,\n",
       "         704: 2,\n",
       "         828: 3,\n",
       "         136: 21,\n",
       "         160: 24,\n",
       "         166: 19,\n",
       "         44: 108,\n",
       "         798: 4,\n",
       "         86: 45,\n",
       "         2496: 1,\n",
       "         870: 1,\n",
       "         1056: 2,\n",
       "         150: 21,\n",
       "         2686: 1,\n",
       "         56: 80,\n",
       "         126: 28,\n",
       "         532: 3,\n",
       "         110: 32,\n",
       "         128: 30,\n",
       "         354: 7,\n",
       "         80: 55,\n",
       "         96: 43,\n",
       "         262: 9,\n",
       "         152: 22,\n",
       "         112: 27,\n",
       "         120: 23,\n",
       "         190: 17,\n",
       "         206: 17,\n",
       "         158: 22,\n",
       "         266: 6,\n",
       "         168: 16,\n",
       "         76: 48,\n",
       "         336: 4,\n",
       "         180: 11,\n",
       "         478: 4,\n",
       "         1010: 1,\n",
       "         848: 1,\n",
       "         140: 30,\n",
       "         1578: 1,\n",
       "         274: 8,\n",
       "         1938: 1,\n",
       "         868: 3,\n",
       "         2748: 1,\n",
       "         1434: 1,\n",
       "         1158: 2,\n",
       "         114: 29,\n",
       "         1448: 2,\n",
       "         130: 21,\n",
       "         998: 1,\n",
       "         376: 5,\n",
       "         1048: 2,\n",
       "         646: 3,\n",
       "         188: 13,\n",
       "         5456: 1,\n",
       "         338: 4,\n",
       "         202: 14,\n",
       "         170: 15,\n",
       "         164: 23,\n",
       "         320: 8,\n",
       "         154: 27,\n",
       "         264: 12,\n",
       "         1154: 1,\n",
       "         468: 4,\n",
       "         260: 12,\n",
       "         1112: 2,\n",
       "         68: 62,\n",
       "         240: 8,\n",
       "         146: 13,\n",
       "         810: 2,\n",
       "         294: 6,\n",
       "         238: 11,\n",
       "         1232: 1,\n",
       "         448: 5,\n",
       "         106: 35,\n",
       "         178: 18,\n",
       "         490: 4,\n",
       "         88: 43,\n",
       "         186: 15,\n",
       "         98: 28,\n",
       "         172: 18,\n",
       "         664: 2,\n",
       "         512: 2,\n",
       "         144: 22,\n",
       "         254: 10,\n",
       "         208: 16,\n",
       "         194: 19,\n",
       "         312: 13,\n",
       "         90: 46,\n",
       "         94: 39,\n",
       "         362: 2,\n",
       "         346: 10,\n",
       "         156: 17,\n",
       "         1108: 2,\n",
       "         368: 5,\n",
       "         3788: 1,\n",
       "         552: 2,\n",
       "         374: 8,\n",
       "         108: 30,\n",
       "         394: 6,\n",
       "         610: 2,\n",
       "         284: 6,\n",
       "         784: 2,\n",
       "         508: 7,\n",
       "         102: 30,\n",
       "         210: 16,\n",
       "         438: 1,\n",
       "         708: 3,\n",
       "         930: 1,\n",
       "         218: 7,\n",
       "         1764: 1,\n",
       "         138: 21,\n",
       "         280: 9,\n",
       "         318: 8,\n",
       "         792: 3,\n",
       "         1286: 4,\n",
       "         620: 3,\n",
       "         426: 3,\n",
       "         598: 1,\n",
       "         216: 14,\n",
       "         124: 18,\n",
       "         416: 7,\n",
       "         244: 8,\n",
       "         526: 2,\n",
       "         198: 17,\n",
       "         306: 6,\n",
       "         574: 2,\n",
       "         148: 20,\n",
       "         292: 10,\n",
       "         474: 3,\n",
       "         246: 5,\n",
       "         224: 13,\n",
       "         134: 26,\n",
       "         530: 3,\n",
       "         118: 28,\n",
       "         556: 3,\n",
       "         84: 48,\n",
       "         242: 8,\n",
       "         322: 5,\n",
       "         236: 6,\n",
       "         400: 3,\n",
       "         234: 11,\n",
       "         446: 3,\n",
       "         1002: 2,\n",
       "         200: 19,\n",
       "         716: 3,\n",
       "         614: 5,\n",
       "         356: 9,\n",
       "         122: 28,\n",
       "         182: 16,\n",
       "         334: 7,\n",
       "         324: 5,\n",
       "         184: 19,\n",
       "         2146: 1,\n",
       "         1602: 1,\n",
       "         1624: 3,\n",
       "         414: 7,\n",
       "         232: 6,\n",
       "         276: 10,\n",
       "         434: 3,\n",
       "         352: 4,\n",
       "         382: 7,\n",
       "         588: 2,\n",
       "         536: 2,\n",
       "         524: 4,\n",
       "         378: 11,\n",
       "         258: 6,\n",
       "         364: 8,\n",
       "         1502: 3,\n",
       "         898: 3,\n",
       "         230: 15,\n",
       "         636: 3,\n",
       "         1068: 1,\n",
       "         718: 2,\n",
       "         1610: 1,\n",
       "         326: 8,\n",
       "         214: 14,\n",
       "         272: 7,\n",
       "         288: 6,\n",
       "         3748: 1,\n",
       "         4184: 1,\n",
       "         514: 5,\n",
       "         622: 5,\n",
       "         464: 6,\n",
       "         772: 2,\n",
       "         506: 7,\n",
       "         270: 6,\n",
       "         1802: 1,\n",
       "         1090: 1,\n",
       "         766: 3,\n",
       "         950: 3,\n",
       "         544: 3,\n",
       "         1734: 1,\n",
       "         1308: 2,\n",
       "         902: 3,\n",
       "         470: 6,\n",
       "         204: 10,\n",
       "         282: 9,\n",
       "         1872: 1,\n",
       "         1920: 1,\n",
       "         750: 1,\n",
       "         432: 6,\n",
       "         228: 19,\n",
       "         196: 15,\n",
       "         652: 2,\n",
       "         316: 7,\n",
       "         1132: 3,\n",
       "         838: 2,\n",
       "         596: 3,\n",
       "         388: 6,\n",
       "         730: 2,\n",
       "         256: 9,\n",
       "         462: 3,\n",
       "         566: 3,\n",
       "         736: 2,\n",
       "         548: 2,\n",
       "         192: 14,\n",
       "         342: 5,\n",
       "         578: 4,\n",
       "         758: 1,\n",
       "         372: 7,\n",
       "         674: 2,\n",
       "         546: 7,\n",
       "         1240: 1,\n",
       "         402: 3,\n",
       "         366: 5,\n",
       "         890: 1,\n",
       "         1228: 2,\n",
       "         980: 1,\n",
       "         1018: 1,\n",
       "         2076: 1,\n",
       "         1364: 2,\n",
       "         1196: 1,\n",
       "         220: 10,\n",
       "         290: 13,\n",
       "         640: 4,\n",
       "         384: 2,\n",
       "         1470: 1,\n",
       "         248: 8,\n",
       "         286: 4,\n",
       "         808: 2,\n",
       "         768: 1,\n",
       "         440: 2,\n",
       "         226: 9,\n",
       "         502: 3,\n",
       "         1058: 2,\n",
       "         1076: 2,\n",
       "         592: 2,\n",
       "         300: 8,\n",
       "         504: 4,\n",
       "         398: 4,\n",
       "         9274: 1,\n",
       "         662: 3,\n",
       "         454: 3,\n",
       "         1582: 2,\n",
       "         904: 2,\n",
       "         348: 1,\n",
       "         1978: 1,\n",
       "         700: 1,\n",
       "         460: 4,\n",
       "         2258: 2,\n",
       "         936: 2,\n",
       "         360: 4,\n",
       "         436: 4,\n",
       "         500: 3,\n",
       "         422: 1,\n",
       "         302: 4,\n",
       "         308: 5,\n",
       "         594: 1,\n",
       "         314: 6,\n",
       "         654: 2,\n",
       "         340: 9,\n",
       "         740: 4,\n",
       "         554: 2,\n",
       "         660: 2,\n",
       "         638: 1,\n",
       "         706: 2,\n",
       "         650: 3,\n",
       "         888: 1,\n",
       "         880: 1,\n",
       "         332: 4,\n",
       "         268: 8,\n",
       "         2254: 1,\n",
       "         1640: 2,\n",
       "         442: 3,\n",
       "         954: 1,\n",
       "         390: 4,\n",
       "         558: 2,\n",
       "         412: 4,\n",
       "         874: 2,\n",
       "         488: 1,\n",
       "         1546: 1,\n",
       "         2160: 1,\n",
       "         1106: 1,\n",
       "         142: 13,\n",
       "         1368: 2,\n",
       "         576: 3,\n",
       "         1110: 2,\n",
       "         380: 3,\n",
       "         298: 7,\n",
       "         1118: 2,\n",
       "         1422: 1,\n",
       "         1242: 1,\n",
       "         1082: 1,\n",
       "         1894: 1,\n",
       "         634: 3,\n",
       "         344: 6,\n",
       "         456: 2,\n",
       "         642: 4,\n",
       "         684: 2,\n",
       "         1096: 1,\n",
       "         754: 2,\n",
       "         738: 2,\n",
       "         774: 2,\n",
       "         976: 2,\n",
       "         6596: 1,\n",
       "         572: 3,\n",
       "         296: 5,\n",
       "         2402: 1,\n",
       "         2272: 1,\n",
       "         330: 8,\n",
       "         1818: 1,\n",
       "         2096: 1,\n",
       "         458: 4,\n",
       "         584: 3,\n",
       "         510: 4,\n",
       "         476: 7,\n",
       "         4830: 1,\n",
       "         2512: 1,\n",
       "         1250: 1,\n",
       "         570: 1,\n",
       "         1128: 1,\n",
       "         910: 2,\n",
       "         1020: 2,\n",
       "         604: 2,\n",
       "         418: 4,\n",
       "         358: 3,\n",
       "         494: 2,\n",
       "         2666: 1,\n",
       "         406: 5,\n",
       "         568: 1,\n",
       "         252: 7,\n",
       "         498: 4,\n",
       "         616: 1,\n",
       "         956: 1,\n",
       "         328: 1,\n",
       "         972: 1,\n",
       "         528: 4,\n",
       "         1004: 1,\n",
       "         666: 1,\n",
       "         1178: 1,\n",
       "         428: 3,\n",
       "         472: 3,\n",
       "         724: 1,\n",
       "         742: 3,\n",
       "         1542: 1,\n",
       "         1500: 1,\n",
       "         452: 1,\n",
       "         1960: 2,\n",
       "         728: 1,\n",
       "         762: 1,\n",
       "         962: 1,\n",
       "         1260: 1,\n",
       "         1526: 1,\n",
       "         1430: 1,\n",
       "         1534: 1,\n",
       "         5964: 1,\n",
       "         1066: 2,\n",
       "         396: 4,\n",
       "         940: 1,\n",
       "         1148: 1,\n",
       "         612: 1,\n",
       "         550: 6,\n",
       "         1188: 1,\n",
       "         630: 1,\n",
       "         3826: 1,\n",
       "         1942: 1,\n",
       "         310: 4,\n",
       "         370: 1,\n",
       "         802: 2,\n",
       "         656: 3,\n",
       "         1572: 1,\n",
       "         814: 2,\n",
       "         2658: 1,\n",
       "         722: 1,\n",
       "         668: 1,\n",
       "         538: 1,\n",
       "         922: 1,\n",
       "         1462: 1,\n",
       "         1312: 1,\n",
       "         928: 1,\n",
       "         1258: 1,\n",
       "         946: 2,\n",
       "         900: 2,\n",
       "         1070: 2,\n",
       "         12070: 1,\n",
       "         1348: 1,\n",
       "         1216: 2,\n",
       "         1226: 1,\n",
       "         1742: 1,\n",
       "         1300: 1,\n",
       "         914: 1,\n",
       "         2036: 1,\n",
       "         1338: 1,\n",
       "         1976: 1,\n",
       "         1072: 1,\n",
       "         788: 1,\n",
       "         1130: 1,\n",
       "         386: 2,\n",
       "         688: 1,\n",
       "         2058: 1,\n",
       "         1458: 1,\n",
       "         1540: 1,\n",
       "         1036: 2,\n",
       "         1736: 1,\n",
       "         1074: 1,\n",
       "         1852: 1,\n",
       "         782: 1,\n",
       "         1496: 1,\n",
       "         1340: 1,\n",
       "         746: 1,\n",
       "         1832: 1,\n",
       "         606: 1,\n",
       "         748: 4,\n",
       "         1892: 1,\n",
       "         678: 1,\n",
       "         2328: 1,\n",
       "         822: 1,\n",
       "         1354: 1,\n",
       "         842: 2,\n",
       "         710: 2,\n",
       "         1400: 2,\n",
       "         812: 2,\n",
       "         582: 2,\n",
       "         3320: 1,\n",
       "         1192: 2,\n",
       "         278: 3,\n",
       "         516: 1,\n",
       "         1104: 2,\n",
       "         734: 3,\n",
       "         350: 3,\n",
       "         1428: 1,\n",
       "         2364: 1,\n",
       "         1472: 1,\n",
       "         1800: 1,\n",
       "         690: 2,\n",
       "         714: 2,\n",
       "         1230: 1,\n",
       "         404: 1,\n",
       "         1528: 1,\n",
       "         522: 2,\n",
       "         1012: 1,\n",
       "         1256: 1,\n",
       "         2066: 1,\n",
       "         1464: 1,\n",
       "         1272: 1,\n",
       "         1142: 1,\n",
       "         1040: 2,\n",
       "         1080: 1,\n",
       "         862: 1,\n",
       "         580: 2,\n",
       "         686: 1,\n",
       "         672: 1,\n",
       "         486: 3,\n",
       "         496: 2,\n",
       "         2070: 1,\n",
       "         3578: 1,\n",
       "         1298: 1,\n",
       "         2228: 2,\n",
       "         618: 2,\n",
       "         804: 2,\n",
       "         1564: 1,\n",
       "         480: 4,\n",
       "         392: 4,\n",
       "         938: 1,\n",
       "         560: 1,\n",
       "         2172: 1,\n",
       "         1588: 1,\n",
       "         726: 2,\n",
       "         3818: 1,\n",
       "         1460: 1,\n",
       "         1424: 1,\n",
       "         800: 2,\n",
       "         2644: 1,\n",
       "         1234: 1,\n",
       "         958: 1,\n",
       "         562: 3,\n",
       "         1840: 1,\n",
       "         602: 2,\n",
       "         4334: 1,\n",
       "         430: 1,\n",
       "         1000: 1,\n",
       "         1296: 1,\n",
       "         1766: 1,\n",
       "         2168: 1,\n",
       "         4462: 1,\n",
       "         696: 1,\n",
       "         3196: 1,\n",
       "         854: 1,\n",
       "         1658: 1,\n",
       "         4980: 1,\n",
       "         866: 1,\n",
       "         1746: 1,\n",
       "         1100: 1,\n",
       "         1220: 1,\n",
       "         520: 1,\n",
       "         2218: 1,\n",
       "         482: 1,\n",
       "         1554: 1,\n",
       "         844: 1,\n",
       "         1184: 1,\n",
       "         2188: 1,\n",
       "         1160: 1,\n",
       "         1198: 1,\n",
       "         3630: 1,\n",
       "         658: 2,\n",
       "         2490: 1,\n",
       "         996: 1,\n",
       "         1694: 1,\n",
       "         1484: 1,\n",
       "         2184: 1,\n",
       "         3646: 1,\n",
       "         4922: 1,\n",
       "         644: 1,\n",
       "         408: 2,\n",
       "         3542: 1,\n",
       "         2408: 1,\n",
       "         676: 1,\n",
       "         2924: 1,\n",
       "         1698: 1,\n",
       "         1246: 1,\n",
       "         5150: 1,\n",
       "         2278: 1,\n",
       "         1710: 1,\n",
       "         926: 1,\n",
       "         608: 2,\n",
       "         8594: 1,\n",
       "         1378: 1,\n",
       "         786: 1,\n",
       "         420: 1,\n",
       "         2018: 1,\n",
       "         2436: 1,\n",
       "         978: 1,\n",
       "         3384: 1,\n",
       "         1222: 1,\n",
       "         778: 1,\n",
       "         744: 1,\n",
       "         5140: 1,\n",
       "         1570: 1,\n",
       "         1030: 1,\n",
       "         2800: 1,\n",
       "         2112: 1,\n",
       "         896: 1,\n",
       "         974: 1,\n",
       "         2082: 1,\n",
       "         1102: 1,\n",
       "         824: 1,\n",
       "         4752: 1,\n",
       "         7754: 1,\n",
       "         2826: 1,\n",
       "         6248: 1,\n",
       "         2772: 1,\n",
       "         1150: 1,\n",
       "         3270: 1,\n",
       "         1992: 1,\n",
       "         648: 1,\n",
       "         3374: 1,\n",
       "         466: 2,\n",
       "         1166: 1,\n",
       "         1492: 1,\n",
       "         1046: 1,\n",
       "         752: 1,\n",
       "         632: 1,\n",
       "         1762: 1})"
      ]
     },
     "execution_count": 32,
     "metadata": {},
     "output_type": "execute_result"
    }
   ],
   "source": [
    "Counter([len(i) for i in sampler.docs_edges])"
   ]
  },
  {
   "cell_type": "code",
   "execution_count": null,
   "metadata": {},
   "outputs": [],
   "source": []
  },
  {
   "cell_type": "code",
   "execution_count": null,
   "metadata": {},
   "outputs": [],
   "source": [
    "plt.plot(sampler.loglikelihood_history)"
   ]
  },
  {
   "cell_type": "code",
   "execution_count": null,
   "metadata": {},
   "outputs": [],
   "source": []
  },
  {
   "cell_type": "code",
   "execution_count": null,
   "metadata": {},
   "outputs": [],
   "source": [
    "silhouette_score(euclidean_distances(sampler.wordOccuranceMatrix),\n",
    "                 sampler.dt_distribution.argmax(axis=1), metric='precomputed')"
   ]
  },
  {
   "cell_type": "code",
   "execution_count": null,
   "metadata": {},
   "outputs": [],
   "source": [
    "davies_bouldin_score(sampler.wordOccuranceMatrix, sampler.dt_distribution.argmax(axis=1))"
   ]
  },
  {
   "cell_type": "code",
   "execution_count": null,
   "metadata": {
    "scrolled": true
   },
   "outputs": [],
   "source": [
    "my_utils.coherence_score(sampler.wordOccuranceMatrix, list(sampler.getTopKWords(5).values()), sampler.vocabulary)"
   ]
  },
  {
   "cell_type": "code",
   "execution_count": null,
   "metadata": {},
   "outputs": [],
   "source": [
    "%%time\n",
    "my_utils.get_hscore_multi(sampler.dt_distribution, sampler.wordOccuranceMatrix, n_topics, 3000)"
   ]
  },
  {
   "cell_type": "code",
   "execution_count": 21,
   "metadata": {},
   "outputs": [
    {
     "data": {
      "text/plain": [
       "2793.3712108451223"
      ]
     },
     "execution_count": 21,
     "metadata": {},
     "output_type": "execute_result"
    }
   ],
   "source": [
    "np.exp(-sampler.loglikelihood()/sampler.wordOccuranceMatrix.sum())"
   ]
  },
  {
   "cell_type": "code",
   "execution_count": null,
   "metadata": {},
   "outputs": [],
   "source": [
    "joblib.dump(sampler, \"resources/sampler_20iter_0.5_1\")"
   ]
  },
  {
   "cell_type": "code",
   "execution_count": null,
   "metadata": {},
   "outputs": [],
   "source": []
  },
  {
   "cell_type": "code",
   "execution_count": null,
   "metadata": {},
   "outputs": [],
   "source": []
  },
  {
   "cell_type": "markdown",
   "metadata": {},
   "source": [
    "### Appendix"
   ]
  },
  {
   "cell_type": "code",
   "execution_count": null,
   "metadata": {},
   "outputs": [],
   "source": [
    "# pickle_out = open(\"resources/amazon_muiscal_glove_0.4.pickle\",\"wb\")\n",
    "# pickle.dump(similar_words, pickle_out)\n",
    "# pickle_out.close()"
   ]
  }
 ],
 "metadata": {
  "kernelspec": {
   "display_name": "python3",
   "language": "python",
   "name": "python3"
  },
  "language_info": {
   "codemirror_mode": {
    "name": "ipython",
    "version": 3
   },
   "file_extension": ".py",
   "mimetype": "text/x-python",
   "name": "python",
   "nbconvert_exporter": "python",
   "pygments_lexer": "ipython3",
   "version": "3.7.4"
  }
 },
 "nbformat": 4,
 "nbformat_minor": 2
}
