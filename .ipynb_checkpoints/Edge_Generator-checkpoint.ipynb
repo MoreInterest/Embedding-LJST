{
 "cells": [
  {
   "cell_type": "markdown",
   "metadata": {},
   "source": [
    "#### Imports"
   ]
  },
  {
   "cell_type": "code",
   "execution_count": 1,
   "metadata": {},
   "outputs": [],
   "source": [
    "from scipy import spatial, sparse\n",
    "from scipy.stats import chi2\n",
    "from collections import Counter\n",
    "from num2words import num2words\n",
    "from nltk.corpus import stopwords\n",
    "from nltk.stem import PorterStemmer\n",
    "from sklearn.externals import joblib \n",
    "from nltk.tokenize import word_tokenize\n",
    "from sklearn.model_selection import KFold\n",
    "from sklearn.decomposition import LatentDirichletAllocation\n",
    "from sklearn.feature_extraction.text import CountVectorizer, TfidfVectorizer\n",
    "\n",
    "import os\n",
    "import imp\n",
    "import gzip\n",
    "import copy\n",
    "import nltk\n",
    "import pickle\n",
    "import scipy\n",
    "import string\n",
    "import gensim\n",
    "import operator\n",
    "import datetime\n",
    "\n",
    "import numpy as np\n",
    "import pandas as pd\n",
    "import LDA_ILJST as lda\n",
    "import matplotlib.pyplot as plt"
   ]
  },
  {
   "cell_type": "code",
   "execution_count": 2,
   "metadata": {},
   "outputs": [],
   "source": [
    "import utils as my_utils"
   ]
  },
  {
   "cell_type": "markdown",
   "metadata": {},
   "source": [
    "### Required Methods"
   ]
  },
  {
   "cell_type": "code",
   "execution_count": 55,
   "metadata": {},
   "outputs": [],
   "source": [
    "dataset_name = \"stackoverflow_fasttext_trained_with_stopwords\""
   ]
  },
  {
   "cell_type": "code",
   "execution_count": 4,
   "metadata": {},
   "outputs": [],
   "source": [
    "dataset = pd.read_pickle(\"resources/data_stackoverflow_5kanswers_pd\")"
   ]
  },
  {
   "cell_type": "code",
   "execution_count": 5,
   "metadata": {},
   "outputs": [
    {
     "data": {
      "text/html": [
       "<div>\n",
       "<style scoped>\n",
       "    .dataframe tbody tr th:only-of-type {\n",
       "        vertical-align: middle;\n",
       "    }\n",
       "\n",
       "    .dataframe tbody tr th {\n",
       "        vertical-align: top;\n",
       "    }\n",
       "\n",
       "    .dataframe thead th {\n",
       "        text-align: right;\n",
       "    }\n",
       "</style>\n",
       "<table border=\"1\" class=\"dataframe\">\n",
       "  <thead>\n",
       "    <tr style=\"text-align: right;\">\n",
       "      <th></th>\n",
       "      <th>Id</th>\n",
       "      <th>OwnerUserId</th>\n",
       "      <th>CreationDate</th>\n",
       "      <th>ParentId</th>\n",
       "      <th>Score</th>\n",
       "      <th>Body</th>\n",
       "      <th>body_text</th>\n",
       "      <th>cleaned_body</th>\n",
       "      <th>clean</th>\n",
       "      <th>sent_score</th>\n",
       "      <th>sent_score_quant</th>\n",
       "    </tr>\n",
       "  </thead>\n",
       "  <tbody>\n",
       "    <tr>\n",
       "      <th>13</th>\n",
       "      <td>783</td>\n",
       "      <td>189.0</td>\n",
       "      <td>2008-08-03T18:40:09Z</td>\n",
       "      <td>773</td>\n",
       "      <td>52</td>\n",
       "      <td>&lt;p&gt;Can you show us your code?&lt;/p&gt;\\n\\n&lt;p&gt;The ex...</td>\n",
       "      <td>Can you show us your code? \\n The example o...</td>\n",
       "      <td>[show, code, example, python, doc, quite, stra...</td>\n",
       "      <td>show code example python doc quite straightfor...</td>\n",
       "      <td>0.030571</td>\n",
       "      <td>5</td>\n",
       "    </tr>\n",
       "    <tr>\n",
       "      <th>71</th>\n",
       "      <td>7286</td>\n",
       "      <td>207.0</td>\n",
       "      <td>2008-08-10T18:45:32Z</td>\n",
       "      <td>773</td>\n",
       "      <td>394</td>\n",
       "      <td>&lt;p&gt;As Sebastjan said, &lt;strong&gt;you first have t...</td>\n",
       "      <td>As Sebastjan said,  you first have to sort ...</td>\n",
       "      <td>[sebastjan, said, first, sort, data, important...</td>\n",
       "      <td>sebastjan said first sort data important part ...</td>\n",
       "      <td>0.024786</td>\n",
       "      <td>4</td>\n",
       "    </tr>\n",
       "    <tr>\n",
       "      <th>350</th>\n",
       "      <td>37252</td>\n",
       "      <td>3926.0</td>\n",
       "      <td>2008-08-31T23:27:16Z</td>\n",
       "      <td>773</td>\n",
       "      <td>24</td>\n",
       "      <td>&lt;p&gt;A neato trick with groupby is to run length...</td>\n",
       "      <td>A neato trick with groupby is to run length...</td>\n",
       "      <td>[neato, trick, groupby, run, length, encoding,...</td>\n",
       "      <td>neato trick groupby run length encoding one li...</td>\n",
       "      <td>-0.039139</td>\n",
       "      <td>1</td>\n",
       "    </tr>\n",
       "    <tr>\n",
       "      <th>33091</th>\n",
       "      <td>1573195</td>\n",
       "      <td>83284.0</td>\n",
       "      <td>2009-10-15T15:41:51Z</td>\n",
       "      <td>773</td>\n",
       "      <td>5</td>\n",
       "      <td>&lt;p&gt;@CaptSolo, I tried your example, but it did...</td>\n",
       "      <td>@CaptSolo, I tried your example, but it did...</td>\n",
       "      <td>[captsolo, tried, example, work, output, see, ...</td>\n",
       "      <td>captsolo tried example work output see two two...</td>\n",
       "      <td>0.039564</td>\n",
       "      <td>5</td>\n",
       "    </tr>\n",
       "    <tr>\n",
       "      <th>309519</th>\n",
       "      <td>14443477</td>\n",
       "      <td>650654.0</td>\n",
       "      <td>2013-01-21T16:54:08Z</td>\n",
       "      <td>773</td>\n",
       "      <td>15</td>\n",
       "      <td>&lt;p&gt;Another example:&lt;/p&gt;\\n\\n&lt;pre&gt;&lt;code&gt;for key,...</td>\n",
       "      <td>Another example: \\n  \\n results in \\n  \\n N...</td>\n",
       "      <td>[another, example, result, note, igroup, itera...</td>\n",
       "      <td>another example result note igroup iterator su...</td>\n",
       "      <td>0.020411</td>\n",
       "      <td>4</td>\n",
       "    </tr>\n",
       "  </tbody>\n",
       "</table>\n",
       "</div>"
      ],
      "text/plain": [
       "              Id  OwnerUserId          CreationDate  ParentId  Score  \\\n",
       "13           783        189.0  2008-08-03T18:40:09Z       773     52   \n",
       "71          7286        207.0  2008-08-10T18:45:32Z       773    394   \n",
       "350        37252       3926.0  2008-08-31T23:27:16Z       773     24   \n",
       "33091    1573195      83284.0  2009-10-15T15:41:51Z       773      5   \n",
       "309519  14443477     650654.0  2013-01-21T16:54:08Z       773     15   \n",
       "\n",
       "                                                     Body  \\\n",
       "13      <p>Can you show us your code?</p>\\n\\n<p>The ex...   \n",
       "71      <p>As Sebastjan said, <strong>you first have t...   \n",
       "350     <p>A neato trick with groupby is to run length...   \n",
       "33091   <p>@CaptSolo, I tried your example, but it did...   \n",
       "309519  <p>Another example:</p>\\n\\n<pre><code>for key,...   \n",
       "\n",
       "                                                body_text  \\\n",
       "13         Can you show us your code? \\n The example o...   \n",
       "71         As Sebastjan said,  you first have to sort ...   \n",
       "350        A neato trick with groupby is to run length...   \n",
       "33091      @CaptSolo, I tried your example, but it did...   \n",
       "309519     Another example: \\n  \\n results in \\n  \\n N...   \n",
       "\n",
       "                                             cleaned_body  \\\n",
       "13      [show, code, example, python, doc, quite, stra...   \n",
       "71      [sebastjan, said, first, sort, data, important...   \n",
       "350     [neato, trick, groupby, run, length, encoding,...   \n",
       "33091   [captsolo, tried, example, work, output, see, ...   \n",
       "309519  [another, example, result, note, igroup, itera...   \n",
       "\n",
       "                                                    clean  sent_score  \\\n",
       "13      show code example python doc quite straightfor...    0.030571   \n",
       "71      sebastjan said first sort data important part ...    0.024786   \n",
       "350     neato trick groupby run length encoding one li...   -0.039139   \n",
       "33091   captsolo tried example work output see two two...    0.039564   \n",
       "309519  another example result note igroup iterator su...    0.020411   \n",
       "\n",
       "        sent_score_quant  \n",
       "13                     5  \n",
       "71                     4  \n",
       "350                    1  \n",
       "33091                  5  \n",
       "309519                 4  "
      ]
     },
     "execution_count": 5,
     "metadata": {},
     "output_type": "execute_result"
    }
   ],
   "source": [
    "dataset.head()"
   ]
  },
  {
   "cell_type": "code",
   "execution_count": 6,
   "metadata": {},
   "outputs": [],
   "source": [
    "dataset = dataset.rename(columns={'cleaned_body': 8, 'clean': 9})"
   ]
  },
  {
   "cell_type": "code",
   "execution_count": 7,
   "metadata": {},
   "outputs": [
    {
     "data": {
      "text/html": [
       "<div>\n",
       "<style scoped>\n",
       "    .dataframe tbody tr th:only-of-type {\n",
       "        vertical-align: middle;\n",
       "    }\n",
       "\n",
       "    .dataframe tbody tr th {\n",
       "        vertical-align: top;\n",
       "    }\n",
       "\n",
       "    .dataframe thead th {\n",
       "        text-align: right;\n",
       "    }\n",
       "</style>\n",
       "<table border=\"1\" class=\"dataframe\">\n",
       "  <thead>\n",
       "    <tr style=\"text-align: right;\">\n",
       "      <th></th>\n",
       "      <th>Id</th>\n",
       "      <th>OwnerUserId</th>\n",
       "      <th>CreationDate</th>\n",
       "      <th>ParentId</th>\n",
       "      <th>Score</th>\n",
       "      <th>Body</th>\n",
       "      <th>body_text</th>\n",
       "      <th>8</th>\n",
       "      <th>9</th>\n",
       "      <th>sent_score</th>\n",
       "      <th>sent_score_quant</th>\n",
       "    </tr>\n",
       "  </thead>\n",
       "  <tbody>\n",
       "    <tr>\n",
       "      <th>13</th>\n",
       "      <td>783</td>\n",
       "      <td>189.0</td>\n",
       "      <td>2008-08-03T18:40:09Z</td>\n",
       "      <td>773</td>\n",
       "      <td>52</td>\n",
       "      <td>&lt;p&gt;Can you show us your code?&lt;/p&gt;\\n\\n&lt;p&gt;The ex...</td>\n",
       "      <td>Can you show us your code? \\n The example o...</td>\n",
       "      <td>[show, code, example, python, doc, quite, stra...</td>\n",
       "      <td>show code example python doc quite straightfor...</td>\n",
       "      <td>0.030571</td>\n",
       "      <td>5</td>\n",
       "    </tr>\n",
       "    <tr>\n",
       "      <th>71</th>\n",
       "      <td>7286</td>\n",
       "      <td>207.0</td>\n",
       "      <td>2008-08-10T18:45:32Z</td>\n",
       "      <td>773</td>\n",
       "      <td>394</td>\n",
       "      <td>&lt;p&gt;As Sebastjan said, &lt;strong&gt;you first have t...</td>\n",
       "      <td>As Sebastjan said,  you first have to sort ...</td>\n",
       "      <td>[sebastjan, said, first, sort, data, important...</td>\n",
       "      <td>sebastjan said first sort data important part ...</td>\n",
       "      <td>0.024786</td>\n",
       "      <td>4</td>\n",
       "    </tr>\n",
       "  </tbody>\n",
       "</table>\n",
       "</div>"
      ],
      "text/plain": [
       "      Id  OwnerUserId          CreationDate  ParentId  Score  \\\n",
       "13   783        189.0  2008-08-03T18:40:09Z       773     52   \n",
       "71  7286        207.0  2008-08-10T18:45:32Z       773    394   \n",
       "\n",
       "                                                 Body  \\\n",
       "13  <p>Can you show us your code?</p>\\n\\n<p>The ex...   \n",
       "71  <p>As Sebastjan said, <strong>you first have t...   \n",
       "\n",
       "                                            body_text  \\\n",
       "13     Can you show us your code? \\n The example o...   \n",
       "71     As Sebastjan said,  you first have to sort ...   \n",
       "\n",
       "                                                    8  \\\n",
       "13  [show, code, example, python, doc, quite, stra...   \n",
       "71  [sebastjan, said, first, sort, data, important...   \n",
       "\n",
       "                                                    9  sent_score  \\\n",
       "13  show code example python doc quite straightfor...    0.030571   \n",
       "71  sebastjan said first sort data important part ...    0.024786   \n",
       "\n",
       "    sent_score_quant  \n",
       "13                 5  \n",
       "71                 4  "
      ]
     },
     "execution_count": 7,
     "metadata": {},
     "output_type": "execute_result"
    }
   ],
   "source": [
    "dataset.head(2)"
   ]
  },
  {
   "cell_type": "code",
   "execution_count": 8,
   "metadata": {},
   "outputs": [],
   "source": [
    "count_matrix_, tfidf_matrix_, vocabulary, words = my_utils.processReviews(dataset[9].values)"
   ]
  },
  {
   "cell_type": "code",
   "execution_count": 9,
   "metadata": {},
   "outputs": [
    {
     "data": {
      "text/plain": [
       "2000"
      ]
     },
     "execution_count": 9,
     "metadata": {},
     "output_type": "execute_result"
    }
   ],
   "source": [
    "len(vocabulary)"
   ]
  },
  {
   "cell_type": "code",
   "execution_count": 10,
   "metadata": {},
   "outputs": [],
   "source": [
    "dataset[10] = dataset[8].apply(lambda x: [i for i in x if i in words])\n",
    "dataset[11] = dataset[10].apply(lambda x: \" \".join(x))"
   ]
  },
  {
   "cell_type": "code",
   "execution_count": 11,
   "metadata": {},
   "outputs": [
    {
     "data": {
      "text/html": [
       "<div>\n",
       "<style scoped>\n",
       "    .dataframe tbody tr th:only-of-type {\n",
       "        vertical-align: middle;\n",
       "    }\n",
       "\n",
       "    .dataframe tbody tr th {\n",
       "        vertical-align: top;\n",
       "    }\n",
       "\n",
       "    .dataframe thead th {\n",
       "        text-align: right;\n",
       "    }\n",
       "</style>\n",
       "<table border=\"1\" class=\"dataframe\">\n",
       "  <thead>\n",
       "    <tr style=\"text-align: right;\">\n",
       "      <th></th>\n",
       "      <th>Id</th>\n",
       "      <th>OwnerUserId</th>\n",
       "      <th>CreationDate</th>\n",
       "      <th>ParentId</th>\n",
       "      <th>Score</th>\n",
       "      <th>Body</th>\n",
       "      <th>body_text</th>\n",
       "      <th>8</th>\n",
       "      <th>9</th>\n",
       "      <th>sent_score</th>\n",
       "      <th>sent_score_quant</th>\n",
       "      <th>10</th>\n",
       "      <th>11</th>\n",
       "    </tr>\n",
       "  </thead>\n",
       "  <tbody>\n",
       "    <tr>\n",
       "      <th>13</th>\n",
       "      <td>783</td>\n",
       "      <td>189.0</td>\n",
       "      <td>2008-08-03T18:40:09Z</td>\n",
       "      <td>773</td>\n",
       "      <td>52</td>\n",
       "      <td>&lt;p&gt;Can you show us your code?&lt;/p&gt;\\n\\n&lt;p&gt;The ex...</td>\n",
       "      <td>Can you show us your code? \\n The example o...</td>\n",
       "      <td>[show, code, example, python, doc, quite, stra...</td>\n",
       "      <td>show code example python doc quite straightfor...</td>\n",
       "      <td>0.030571</td>\n",
       "      <td>5</td>\n",
       "      <td>[show, code, example, python, doc, quite, stra...</td>\n",
       "      <td>show code example python doc quite straightfor...</td>\n",
       "    </tr>\n",
       "    <tr>\n",
       "      <th>71</th>\n",
       "      <td>7286</td>\n",
       "      <td>207.0</td>\n",
       "      <td>2008-08-10T18:45:32Z</td>\n",
       "      <td>773</td>\n",
       "      <td>394</td>\n",
       "      <td>&lt;p&gt;As Sebastjan said, &lt;strong&gt;you first have t...</td>\n",
       "      <td>As Sebastjan said,  you first have to sort ...</td>\n",
       "      <td>[sebastjan, said, first, sort, data, important...</td>\n",
       "      <td>sebastjan said first sort data important part ...</td>\n",
       "      <td>0.024786</td>\n",
       "      <td>4</td>\n",
       "      <td>[said, first, sort, data, important, part, get...</td>\n",
       "      <td>said first sort data important part get exampl...</td>\n",
       "    </tr>\n",
       "  </tbody>\n",
       "</table>\n",
       "</div>"
      ],
      "text/plain": [
       "      Id  OwnerUserId          CreationDate  ParentId  Score  \\\n",
       "13   783        189.0  2008-08-03T18:40:09Z       773     52   \n",
       "71  7286        207.0  2008-08-10T18:45:32Z       773    394   \n",
       "\n",
       "                                                 Body  \\\n",
       "13  <p>Can you show us your code?</p>\\n\\n<p>The ex...   \n",
       "71  <p>As Sebastjan said, <strong>you first have t...   \n",
       "\n",
       "                                            body_text  \\\n",
       "13     Can you show us your code? \\n The example o...   \n",
       "71     As Sebastjan said,  you first have to sort ...   \n",
       "\n",
       "                                                    8  \\\n",
       "13  [show, code, example, python, doc, quite, stra...   \n",
       "71  [sebastjan, said, first, sort, data, important...   \n",
       "\n",
       "                                                    9  sent_score  \\\n",
       "13  show code example python doc quite straightfor...    0.030571   \n",
       "71  sebastjan said first sort data important part ...    0.024786   \n",
       "\n",
       "    sent_score_quant                                                 10  \\\n",
       "13                 5  [show, code, example, python, doc, quite, stra...   \n",
       "71                 4  [said, first, sort, data, important, part, get...   \n",
       "\n",
       "                                                   11  \n",
       "13  show code example python doc quite straightfor...  \n",
       "71  said first sort data important part get exampl...  "
      ]
     },
     "execution_count": 11,
     "metadata": {},
     "output_type": "execute_result"
    }
   ],
   "source": [
    "dataset.head(2)"
   ]
  },
  {
   "cell_type": "code",
   "execution_count": 12,
   "metadata": {},
   "outputs": [
    {
     "name": "stdout",
     "output_type": "stream",
     "text": [
      "CPU times: user 5min, sys: 3.24 s, total: 5min 3s\n",
      "Wall time: 5min 3s\n"
     ]
    }
   ],
   "source": [
    "%%time\n",
    "embeddings_index = gensim.models.KeyedVectors.load_word2vec_format(\"nongit_resources/wiki_news_stackoverflow_with_stopwords.vec\")"
   ]
  },
  {
   "cell_type": "code",
   "execution_count": 13,
   "metadata": {},
   "outputs": [],
   "source": [
    "words_embeddings = {}\n",
    "for i in words:\n",
    "    try:\n",
    "        words_embeddings[i] = embeddings_index[i]\n",
    "    except:\n",
    "        pass"
   ]
  },
  {
   "cell_type": "code",
   "execution_count": 14,
   "metadata": {},
   "outputs": [],
   "source": [
    "embeddings_index = None"
   ]
  },
  {
   "cell_type": "code",
   "execution_count": 15,
   "metadata": {},
   "outputs": [
    {
     "data": {
      "text/plain": [
       "1999"
      ]
     },
     "execution_count": 15,
     "metadata": {},
     "output_type": "execute_result"
    }
   ],
   "source": [
    "len(words_embeddings)"
   ]
  },
  {
   "cell_type": "code",
   "execution_count": 16,
   "metadata": {
    "scrolled": true
   },
   "outputs": [
    {
     "name": "stdout",
     "output_type": "stream",
     "text": [
      "0\n",
      "500\n",
      "1000\n",
      "1500\n",
      "CPU times: user 1min 29s, sys: 530 ms, total: 1min 29s\n",
      "Wall time: 1min 29s\n"
     ]
    }
   ],
   "source": [
    "%%time\n",
    "edge_embeddings = {}\n",
    "for idx, i in enumerate(words):\n",
    "    my_utils.print_if_mod(idx, 500)\n",
    "    for j in words:\n",
    "        if (i, j) not in edge_embeddings:\n",
    "            try:\n",
    "                sim = my_utils.get_cosine(words_embeddings[i], words_embeddings[j])\n",
    "                edge_embeddings[(i, j)] = sim\n",
    "                edge_embeddings[(j, i)] = sim\n",
    "            except:\n",
    "                edge_embeddings[(i, j)] = 0.0\n",
    "                edge_embeddings[(j, i)] = 0.0\n",
    "                pass"
   ]
  },
  {
   "cell_type": "code",
   "execution_count": 57,
   "metadata": {
    "scrolled": true
   },
   "outputs": [
    {
     "name": "stdout",
     "output_type": "stream",
     "text": [
      "0\n",
      "500\n",
      "1000\n",
      "1500\n",
      "2000\n",
      "2500\n",
      "3000\n",
      "3500\n",
      "4000\n",
      "4500\n",
      "5000\n",
      "CPU times: user 23.8 s, sys: 661 ms, total: 24.5 s\n",
      "Wall time: 24.5 s\n"
     ]
    }
   ],
   "source": [
    "%%time\n",
    "edges_threshold = 0.73\n",
    "docs_edges = []\n",
    "docs_edges_all = []\n",
    "for idx, doc in enumerate(dataset[10].values):\n",
    "    my_utils.print_if_mod(idx, 500)\n",
    "    edges, edges_all = [], []\n",
    "    for i in doc:\n",
    "        for j in doc:\n",
    "            if i != j:\n",
    "                sim = edge_embeddings[(i, j)]\n",
    "                if sim > edges_threshold and (vocabulary[i], vocabulary[j]) not in edges and (vocabulary[j], vocabulary[i]) not in edges:\n",
    "                    edges.append((vocabulary[i], vocabulary[j]))\n",
    "                    edges_all.append((i, j, sim))\n",
    "    docs_edges.append(edges)\n",
    "    docs_edges_all.append(edges_all)"
   ]
  },
  {
   "cell_type": "code",
   "execution_count": 58,
   "metadata": {
    "scrolled": true
   },
   "outputs": [
    {
     "data": {
      "text/plain": [
       "[u'said',\n",
       " u'first',\n",
       " u'sort',\n",
       " u'data',\n",
       " u'important',\n",
       " u'part',\n",
       " u'get',\n",
       " u'example',\n",
       " u'current',\n",
       " u'key',\n",
       " u'iterator',\n",
       " u'use',\n",
       " u'iterate',\n",
       " u'group',\n",
       " u'defined',\n",
       " u'key',\n",
       " u'word',\n",
       " u'iterator',\n",
       " u'return',\n",
       " u'iterators',\n",
       " u'example',\n",
       " u'using',\n",
       " u'clearer',\n",
       " u'variable',\n",
       " u'name',\n",
       " u'give',\n",
       " u'output',\n",
       " u'br',\n",
       " u'duck',\n",
       " u'speed',\n",
       " u'br',\n",
       " u'example',\n",
       " u'list',\n",
       " u'tuples',\n",
       " u'first',\n",
       " u'item',\n",
       " u'tuple',\n",
       " u'group',\n",
       " u'second',\n",
       " u'item',\n",
       " u'function',\n",
       " u'take',\n",
       " u'two',\n",
       " u'argument',\n",
       " u'data',\n",
       " u'group',\n",
       " u'function',\n",
       " u'group',\n",
       " u'tell',\n",
       " u'use',\n",
       " u'first',\n",
       " u'item',\n",
       " u'tuple',\n",
       " u'key',\n",
       " u'statement',\n",
       " u'return',\n",
       " u'three',\n",
       " u'key',\n",
       " u'group',\n",
       " u'iterator',\n",
       " u'pair',\n",
       " u'unique',\n",
       " u'key',\n",
       " u'use',\n",
       " u'returned',\n",
       " u'iterator',\n",
       " u'iterate',\n",
       " u'individual',\n",
       " u'item',\n",
       " u'group',\n",
       " u'slightly',\n",
       " u'different',\n",
       " u'example',\n",
       " u'data',\n",
       " u'using',\n",
       " u'list',\n",
       " u'comprehension',\n",
       " u'give',\n",
       " u'output',\n",
       " u'duck',\n",
       " u'br',\n",
       " u'br',\n",
       " u'speed']"
      ]
     },
     "execution_count": 58,
     "metadata": {},
     "output_type": "execute_result"
    }
   ],
   "source": [
    "dataset[10].values[1]"
   ]
  },
  {
   "cell_type": "code",
   "execution_count": 59,
   "metadata": {
    "scrolled": true
   },
   "outputs": [
    {
     "data": {
      "text/plain": [
       "[(u'first', u'part', 0.7327466607093811),\n",
       " (u'first', u'get', 0.739512026309967),\n",
       " (u'first', u'use', 0.743014931678772),\n",
       " (u'first', u'return', 0.7347083687782288),\n",
       " (u'first', u'using', 0.7356998324394226),\n",
       " (u'first', u'second', 0.8564392328262329),\n",
       " (u'first', u'two', 0.7779945135116577),\n",
       " (u'first', u'three', 0.7909581661224365),\n",
       " (u'important', u'part', 0.7379785180091858),\n",
       " (u'get', u'example', 0.7321568727493286),\n",
       " (u'get', u'use', 0.7653287053108215),\n",
       " (u'get', u'return', 0.7760693430900574),\n",
       " (u'get', u'using', 0.7799131870269775),\n",
       " (u'get', u'give', 0.8506007194519043),\n",
       " (u'get', u'output', 0.7354133725166321),\n",
       " (u'get', u'returned', 0.7635136246681213),\n",
       " (u'example', u'use', 0.7419353723526001),\n",
       " (u'example', u'using', 0.7359979748725891),\n",
       " (u'iterator', u'iterate', 0.7447704076766968),\n",
       " (u'iterator', u'iterators', 0.8952702879905701),\n",
       " (u'use', u'using', 0.8878074884414673),\n",
       " (u'use', u'give', 0.7515801191329956),\n",
       " (u'iterate', u'list', 0.7436172962188721),\n",
       " (u'return', u'give', 0.7542680501937866),\n",
       " (u'return', u'function', 0.7495455741882324),\n",
       " (u'return', u'returned', 0.8968024849891663),\n",
       " (u'using', u'give', 0.7318084836006165),\n",
       " (u'using', u'different', 0.7319948077201843),\n",
       " (u'give', u'output', 0.7335137128829956),\n",
       " (u'give', u'tell', 0.7533945441246033),\n",
       " (u'list', u'tuples', 0.8007456660270691),\n",
       " (u'list', u'item', 0.7550131678581238),\n",
       " (u'list', u'tuple', 0.7733343243598938),\n",
       " (u'list', u'comprehension', 0.7316957712173462),\n",
       " (u'tuples', u'tuple', 0.8896251916885376),\n",
       " (u'tuples', u'pair', 0.7349449396133423),\n",
       " (u'second', u'two', 0.7532551884651184),\n",
       " (u'second', u'three', 0.7747506499290466),\n",
       " (u'two', u'three', 0.8876941204071045),\n",
       " (u'two', u'different', 0.7985308170318604),\n",
       " (u'three', u'different', 0.7648506760597229)]"
      ]
     },
     "execution_count": 59,
     "metadata": {},
     "output_type": "execute_result"
    }
   ],
   "source": [
    "docs_edges_all[1]"
   ]
  },
  {
   "cell_type": "code",
   "execution_count": 60,
   "metadata": {},
   "outputs": [
    {
     "data": {
      "text/plain": [
       "18.0"
      ]
     },
     "execution_count": 60,
     "metadata": {},
     "output_type": "execute_result"
    }
   ],
   "source": [
    "np.median([len(i) for i in docs_edges])"
   ]
  },
  {
   "cell_type": "code",
   "execution_count": 61,
   "metadata": {
    "scrolled": false
   },
   "outputs": [
    {
     "data": {
      "text/plain": [
       "42.40994408945687"
      ]
     },
     "execution_count": 61,
     "metadata": {},
     "output_type": "execute_result"
    }
   ],
   "source": [
    "np.mean([len(i) for i in docs_edges])"
   ]
  },
  {
   "cell_type": "code",
   "execution_count": 62,
   "metadata": {},
   "outputs": [
    {
     "data": {
      "text/plain": [
       "(65,)"
      ]
     },
     "execution_count": 62,
     "metadata": {},
     "output_type": "execute_result"
    }
   ],
   "source": [
    "np.where(np.array([len(i) for i in docs_edges]) == 0)[0].shape"
   ]
  },
  {
   "cell_type": "code",
   "execution_count": 63,
   "metadata": {},
   "outputs": [
    {
     "data": {
      "text/plain": [
       "Counter({0: 65,\n",
       "         1: 121,\n",
       "         2: 119,\n",
       "         3: 159,\n",
       "         4: 162,\n",
       "         5: 158,\n",
       "         6: 169,\n",
       "         7: 126,\n",
       "         8: 154,\n",
       "         9: 108,\n",
       "         10: 202,\n",
       "         11: 173,\n",
       "         12: 130,\n",
       "         13: 147,\n",
       "         14: 135,\n",
       "         15: 133,\n",
       "         16: 95,\n",
       "         17: 107,\n",
       "         18: 112,\n",
       "         19: 90,\n",
       "         20: 73,\n",
       "         21: 75,\n",
       "         22: 86,\n",
       "         23: 57,\n",
       "         24: 67,\n",
       "         25: 65,\n",
       "         26: 50,\n",
       "         27: 66,\n",
       "         28: 58,\n",
       "         29: 55,\n",
       "         30: 46,\n",
       "         31: 40,\n",
       "         32: 55,\n",
       "         33: 40,\n",
       "         34: 27,\n",
       "         35: 32,\n",
       "         36: 32,\n",
       "         37: 32,\n",
       "         38: 36,\n",
       "         39: 33,\n",
       "         40: 29,\n",
       "         41: 33,\n",
       "         42: 27,\n",
       "         43: 31,\n",
       "         44: 19,\n",
       "         45: 24,\n",
       "         46: 25,\n",
       "         47: 24,\n",
       "         48: 20,\n",
       "         49: 17,\n",
       "         50: 21,\n",
       "         51: 16,\n",
       "         52: 23,\n",
       "         53: 15,\n",
       "         54: 25,\n",
       "         55: 15,\n",
       "         56: 16,\n",
       "         57: 13,\n",
       "         58: 17,\n",
       "         59: 10,\n",
       "         60: 14,\n",
       "         61: 21,\n",
       "         62: 12,\n",
       "         63: 9,\n",
       "         64: 16,\n",
       "         65: 17,\n",
       "         66: 9,\n",
       "         67: 13,\n",
       "         68: 19,\n",
       "         69: 14,\n",
       "         70: 11,\n",
       "         71: 10,\n",
       "         72: 11,\n",
       "         73: 8,\n",
       "         74: 17,\n",
       "         75: 13,\n",
       "         76: 12,\n",
       "         77: 7,\n",
       "         78: 10,\n",
       "         79: 9,\n",
       "         80: 4,\n",
       "         81: 11,\n",
       "         82: 12,\n",
       "         83: 7,\n",
       "         84: 9,\n",
       "         85: 9,\n",
       "         86: 16,\n",
       "         87: 11,\n",
       "         88: 11,\n",
       "         89: 9,\n",
       "         90: 8,\n",
       "         91: 1,\n",
       "         92: 4,\n",
       "         93: 6,\n",
       "         94: 7,\n",
       "         95: 6,\n",
       "         96: 3,\n",
       "         97: 9,\n",
       "         98: 7,\n",
       "         99: 11,\n",
       "         100: 7,\n",
       "         101: 6,\n",
       "         102: 4,\n",
       "         103: 6,\n",
       "         104: 2,\n",
       "         105: 4,\n",
       "         106: 5,\n",
       "         107: 5,\n",
       "         108: 4,\n",
       "         109: 4,\n",
       "         110: 7,\n",
       "         111: 9,\n",
       "         112: 4,\n",
       "         113: 11,\n",
       "         114: 3,\n",
       "         115: 5,\n",
       "         116: 6,\n",
       "         117: 4,\n",
       "         118: 5,\n",
       "         119: 4,\n",
       "         120: 5,\n",
       "         121: 5,\n",
       "         122: 7,\n",
       "         123: 4,\n",
       "         124: 7,\n",
       "         125: 6,\n",
       "         126: 1,\n",
       "         127: 3,\n",
       "         128: 2,\n",
       "         129: 2,\n",
       "         130: 5,\n",
       "         131: 2,\n",
       "         132: 4,\n",
       "         134: 3,\n",
       "         135: 5,\n",
       "         136: 2,\n",
       "         137: 7,\n",
       "         138: 6,\n",
       "         139: 2,\n",
       "         140: 6,\n",
       "         141: 6,\n",
       "         142: 3,\n",
       "         143: 4,\n",
       "         144: 3,\n",
       "         145: 1,\n",
       "         146: 2,\n",
       "         147: 2,\n",
       "         149: 2,\n",
       "         150: 1,\n",
       "         151: 5,\n",
       "         152: 3,\n",
       "         153: 2,\n",
       "         154: 1,\n",
       "         155: 3,\n",
       "         156: 3,\n",
       "         157: 3,\n",
       "         158: 1,\n",
       "         159: 2,\n",
       "         160: 6,\n",
       "         161: 1,\n",
       "         162: 1,\n",
       "         163: 4,\n",
       "         164: 1,\n",
       "         165: 2,\n",
       "         166: 4,\n",
       "         167: 2,\n",
       "         169: 2,\n",
       "         171: 3,\n",
       "         172: 4,\n",
       "         173: 6,\n",
       "         174: 2,\n",
       "         175: 2,\n",
       "         177: 3,\n",
       "         178: 2,\n",
       "         179: 2,\n",
       "         180: 2,\n",
       "         181: 1,\n",
       "         182: 5,\n",
       "         183: 2,\n",
       "         184: 2,\n",
       "         185: 1,\n",
       "         186: 2,\n",
       "         187: 1,\n",
       "         188: 1,\n",
       "         189: 3,\n",
       "         191: 1,\n",
       "         193: 1,\n",
       "         194: 2,\n",
       "         198: 3,\n",
       "         199: 1,\n",
       "         201: 2,\n",
       "         202: 1,\n",
       "         204: 2,\n",
       "         205: 2,\n",
       "         206: 1,\n",
       "         207: 2,\n",
       "         208: 2,\n",
       "         209: 3,\n",
       "         210: 1,\n",
       "         211: 1,\n",
       "         212: 1,\n",
       "         213: 1,\n",
       "         214: 2,\n",
       "         215: 3,\n",
       "         216: 1,\n",
       "         217: 3,\n",
       "         218: 1,\n",
       "         219: 1,\n",
       "         220: 3,\n",
       "         223: 1,\n",
       "         225: 1,\n",
       "         226: 2,\n",
       "         227: 2,\n",
       "         231: 1,\n",
       "         232: 1,\n",
       "         233: 1,\n",
       "         237: 1,\n",
       "         241: 2,\n",
       "         242: 1,\n",
       "         243: 1,\n",
       "         244: 3,\n",
       "         245: 1,\n",
       "         251: 1,\n",
       "         254: 2,\n",
       "         257: 2,\n",
       "         258: 1,\n",
       "         259: 4,\n",
       "         260: 2,\n",
       "         261: 1,\n",
       "         263: 1,\n",
       "         265: 2,\n",
       "         267: 1,\n",
       "         269: 1,\n",
       "         274: 1,\n",
       "         276: 1,\n",
       "         277: 1,\n",
       "         279: 1,\n",
       "         281: 2,\n",
       "         284: 1,\n",
       "         285: 1,\n",
       "         287: 1,\n",
       "         291: 1,\n",
       "         293: 3,\n",
       "         295: 1,\n",
       "         297: 1,\n",
       "         300: 1,\n",
       "         303: 1,\n",
       "         304: 1,\n",
       "         307: 1,\n",
       "         308: 2,\n",
       "         309: 1,\n",
       "         311: 2,\n",
       "         314: 2,\n",
       "         318: 1,\n",
       "         323: 1,\n",
       "         325: 1,\n",
       "         326: 1,\n",
       "         329: 1,\n",
       "         331: 1,\n",
       "         333: 1,\n",
       "         338: 1,\n",
       "         340: 2,\n",
       "         341: 1,\n",
       "         343: 1,\n",
       "         348: 1,\n",
       "         350: 1,\n",
       "         352: 1,\n",
       "         362: 1,\n",
       "         363: 2,\n",
       "         364: 2,\n",
       "         370: 1,\n",
       "         371: 1,\n",
       "         372: 1,\n",
       "         377: 2,\n",
       "         382: 1,\n",
       "         396: 1,\n",
       "         397: 1,\n",
       "         399: 1,\n",
       "         402: 1,\n",
       "         415: 1,\n",
       "         418: 1,\n",
       "         419: 1,\n",
       "         422: 1,\n",
       "         427: 2,\n",
       "         428: 1,\n",
       "         429: 1,\n",
       "         443: 1,\n",
       "         445: 1,\n",
       "         448: 2,\n",
       "         451: 1,\n",
       "         454: 1,\n",
       "         457: 1,\n",
       "         471: 2,\n",
       "         486: 1,\n",
       "         494: 1,\n",
       "         509: 1,\n",
       "         511: 1,\n",
       "         512: 1,\n",
       "         513: 1,\n",
       "         516: 1,\n",
       "         518: 1,\n",
       "         521: 1,\n",
       "         522: 1,\n",
       "         533: 1,\n",
       "         535: 1,\n",
       "         554: 1,\n",
       "         563: 1,\n",
       "         565: 1,\n",
       "         567: 1,\n",
       "         577: 1,\n",
       "         595: 1,\n",
       "         607: 1,\n",
       "         609: 1,\n",
       "         664: 1,\n",
       "         677: 1,\n",
       "         683: 1,\n",
       "         709: 1,\n",
       "         745: 1,\n",
       "         789: 1,\n",
       "         825: 1,\n",
       "         1308: 1,\n",
       "         1334: 1,\n",
       "         1477: 1,\n",
       "         1508: 1,\n",
       "         1511: 1})"
      ]
     },
     "execution_count": 63,
     "metadata": {},
     "output_type": "execute_result"
    }
   ],
   "source": [
    "Counter([len(i) for i in docs_edges])"
   ]
  },
  {
   "cell_type": "code",
   "execution_count": 64,
   "metadata": {},
   "outputs": [
    {
     "data": {
      "text/plain": [
       "'stackoverflow_fasttext_trained_with_stopwords'"
      ]
     },
     "execution_count": 64,
     "metadata": {},
     "output_type": "execute_result"
    }
   ],
   "source": [
    "dataset_name"
   ]
  },
  {
   "cell_type": "code",
   "execution_count": 65,
   "metadata": {},
   "outputs": [],
   "source": [
    "pickle_out = open(\"resources/docs_edges_\" + dataset_name + \"_5kanswers.pickle\",\"wb\")\n",
    "pickle.dump(docs_edges, pickle_out)\n",
    "pickle_out.close()"
   ]
  },
  {
   "cell_type": "markdown",
   "metadata": {},
   "source": [
    "# Appendix"
   ]
  },
  {
   "cell_type": "code",
   "execution_count": null,
   "metadata": {},
   "outputs": [],
   "source": [
    "# def loadGloveModel(gloveFile):\n",
    "#     print(\"Loading Glove Model\")\n",
    "#     f = open(gloveFile,'r')\n",
    "#     model = {}\n",
    "#     for line in f:\n",
    "#         splitLine = line.split()\n",
    "#         word = splitLine[0]\n",
    "#         embedding = np.array([float(val) for val in splitLine[1:]])\n",
    "#         model[word] = embedding\n",
    "#     print(\"Done.\",len(model),\" words loaded!\")\n",
    "#     return model"
   ]
  },
  {
   "cell_type": "code",
   "execution_count": null,
   "metadata": {
    "scrolled": true
   },
   "outputs": [],
   "source": [
    "# %%time\n",
    "# embeddings_index = loadGloveModel(\"nongit_resources/glove.42B.300d.txt\")"
   ]
  },
  {
   "cell_type": "code",
   "execution_count": null,
   "metadata": {},
   "outputs": [],
   "source": [
    "# %%time\n",
    "# embeddings_index = gensim.models.KeyedVectors.load_word2vec_format(\"nongit_resources/electronics.vec\")"
   ]
  },
  {
   "cell_type": "code",
   "execution_count": null,
   "metadata": {
    "scrolled": true
   },
   "outputs": [],
   "source": [
    "# %%time\n",
    "# edges_threshold = 0.8\n",
    "# docs_edges, ignored, taken, count = [], [], [], 0\n",
    "# for idx, doc in enumerate(dataset[8].values):\n",
    "#     edges = []\n",
    "#     print(idx)\n",
    "#     for i in doc:\n",
    "#         for j in doc:\n",
    "#             if i != j:\n",
    "#                 try:\n",
    "#                     a = embeddings_index[i]\n",
    "#                     b = embeddings_index[j]\n",
    "#                     if get_cosine(a, b) > edges_threshold and (vocabulary[i], vocabulary[j]) not in edges and (vocabulary[j], vocabulary[i]) not in edges:\n",
    "#                         edges.append((vocabulary[i], vocabulary[j]))\n",
    "#                 except:\n",
    "#                     try:\n",
    "#                         embeddings_index[i]\n",
    "#                         taken.append(i)\n",
    "#                     except:\n",
    "#                         ignored.append(i)\n",
    "#                     try:\n",
    "#                         embeddings_index[j]\n",
    "#                     except:\n",
    "#                         ignored.append(j)\n",
    "#                         taken.append(j)\n",
    "#                     pass\n",
    "#     docs_edges.append(edges)"
   ]
  },
  {
   "cell_type": "code",
   "execution_count": null,
   "metadata": {},
   "outputs": [],
   "source": [
    "# pickle_out = open(\"resources/docs_edges_\" + dataset_name + \"_5k_fasttext_trained.pickle\",\"wb\")\n",
    "# pickle.dump(docs_edges, pickle_out)\n",
    "# pickle_out.close()"
   ]
  },
  {
   "cell_type": "code",
   "execution_count": null,
   "metadata": {},
   "outputs": [],
   "source": [
    "## Sentence wise\n",
    "# dataset = dataset[['asin', 'helpful', 'overall', 'reviewText']]\n",
    "# dataset['n_words'] = dataset['reviewText'].apply(lambda x: len(w_tokenizer.tokenize(x)))\n",
    "# dataset['sentences'] = dataset['reviewText'].apply(lambda x: [i.strip() for i in x.split(\".\")])\n",
    "# dataset['sentence_word_density'] = dataset['reviewText'].apply(lambda x: len(w_tokenizer.tokenize(x))/ len(x.split(\".\")))\n",
    "# dataset.to_csv(\"reviews_Musical_Instruments_5.csv\")"
   ]
  },
  {
   "cell_type": "code",
   "execution_count": null,
   "metadata": {
    "scrolled": true
   },
   "outputs": [],
   "source": [
    "# edge_dict, ignored, taken, count = {}, [], [], 0\n",
    "# for idxi, i in enumerate(vocabulary.keys()):\n",
    "#     print(idxi)\n",
    "#     for idxj, j in enumerate(vocabulary.keys()):\n",
    "#         if i != j:\n",
    "#             try:\n",
    "#                 a = embeddings_index[i]\n",
    "#                 b = embeddings_index[j]\n",
    "#                 if get_cosine(a, b) > edges_threshold:\n",
    "#                     try:\n",
    "#                         edge_dict[vocabulary[i]] += [vocabulary[j]]\n",
    "#                         edge_dict[vocabulary[j]] += [vocabulary[i]]\n",
    "#                     except:\n",
    "#                         edge_dict[vocabulary[i]] = [vocabulary[j]]\n",
    "#                         edge_dict[vocabulary[j]] = [vocabulary[i]]\n",
    "#             except:\n",
    "#                 try:\n",
    "#                     embeddings_index[i]\n",
    "#                     taken.append(i)\n",
    "#                 except:\n",
    "#                     ignored.append(i)\n",
    "#                 try:\n",
    "#                     embeddings_index[j]\n",
    "#                 except:\n",
    "#                     ignored.append(j)\n",
    "#                     taken.append(j)\n",
    "#                 pass"
   ]
  },
  {
   "cell_type": "code",
   "execution_count": null,
   "metadata": {},
   "outputs": [],
   "source": [
    "df = {}\n",
    "\n",
    "for idx, i in enumerate(dataset[8].values):\n",
    "    print(idx)\n",
    "    for j in i:\n",
    "        try:\n",
    "            df[j] += [idx]\n",
    "        except:\n",
    "            df[j] = [idx]\n",
    "\n",
    "for i in df.keys():\n",
    "    df[i] = len(list(set(df[i])))\n",
    "\n",
    "df_vector = []\n",
    "for i in dataset[8].values:\n",
    "    d = [0]*len(vocabulary.keys())\n",
    "    for j in i:\n",
    "        if j in vocabulary.keys():\n",
    "            d[vocabulary[j]] = df[j]\n",
    "    df_vector.append(d)\n",
    "\n",
    "csr = sparse.csr_matrix(np.array(df_vector))\n",
    "scipy.sparse.save_npz('resources/df_stackoverflow_5kanswers.npz', csr)"
   ]
  },
  {
   "cell_type": "code",
   "execution_count": null,
   "metadata": {},
   "outputs": [],
   "source": [
    "np.array(scipy.sparse.load_npz('resources/df_stackoverflow_5kanswers.npz').todense())"
   ]
  },
  {
   "cell_type": "code",
   "execution_count": null,
   "metadata": {
    "scrolled": true
   },
   "outputs": [],
   "source": [
    "# dataset = parse(\"nongit_resources/reviews_Electronics_5.json.gz\")\n",
    "# dataset = pd.DataFrame(list(dataset))\n",
    "# dataset = dataset.head(N_docs)\n",
    "# dataset.to_pickle(\"resources/reviews_Electronics_5\")"
   ]
  }
 ],
 "metadata": {
  "kernelspec": {
   "display_name": "Python [conda env:python2]",
   "language": "python",
   "name": "conda-env-python2-py"
  },
  "language_info": {
   "codemirror_mode": {
    "name": "ipython",
    "version": 2
   },
   "file_extension": ".py",
   "mimetype": "text/x-python",
   "name": "python",
   "nbconvert_exporter": "python",
   "pygments_lexer": "ipython2",
   "version": "2.7.16"
  }
 },
 "nbformat": 4,
 "nbformat_minor": 2
}
